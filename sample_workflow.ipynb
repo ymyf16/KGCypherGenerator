{
 "cells": [
  {
   "cell_type": "markdown",
   "metadata": {},
   "source": [
    "### Import necessary packages, nested dictionary, and relationships"
   ]
  },
  {
   "cell_type": "code",
   "execution_count": 1,
   "metadata": {},
   "outputs": [],
   "source": [
    "import json\n",
    "from kgpre import *\n",
    "from multiproc import *"
   ]
  },
  {
   "cell_type": "code",
   "execution_count": 2,
   "metadata": {},
   "outputs": [],
   "source": [
    "import ast\n",
    "file_path = './example/alzkb_nested_dict.txt'\n",
    "with open(file_path, 'r') as file:\n",
    "    file_content = file.read()\n",
    "alzkb_nested_dict = ast.literal_eval(file_content)"
   ]
  },
  {
   "cell_type": "code",
   "execution_count": 3,
   "metadata": {},
   "outputs": [],
   "source": [
    "# Extract relationships from schema\n",
    "with open('./example/schema.json', 'r',encoding='utf-8-sig') as file:\n",
    "    schema = json.load(file)\n",
    "alzkb_relationships = [relationship['type'] for relationship in schema[0]['relationships']]\n"
   ]
  },
  {
   "cell_type": "markdown",
   "metadata": {},
   "source": [
    "### Initialize Query Generation; EA"
   ]
  },
  {
   "cell_type": "code",
   "execution_count": 4,
   "metadata": {},
   "outputs": [
    {
     "name": "stdout",
     "output_type": "stream",
     "text": [
      "generation: 0\n"
     ]
    }
   ],
   "source": [
    "dm = DepthManager.getInstance()\n",
    "qm = QueryManager(dm=dm)\n",
    "qm.import_grouped_info(alzkb_nested_dict)  \n",
    "qm.import_relationships(alzkb_relationships)  \n",
    "\n",
    "\n",
    "ea = EvolutionaryAlgorithm(qm=qm, depth_manager=dm, initial_population_size=10,max_depth=4, max_generation=3, min_population_size=10,max_population_size=100)\n",
    "ea.reset_ea()\n",
    "print(\"generation:\",ea.generation)\n",
    "ea.initialize_population() "
   ]
  },
  {
   "cell_type": "code",
   "execution_count": 5,
   "metadata": {},
   "outputs": [
    {
     "data": {
      "text/plain": [
       "['MATCH (pathway:Pathway {commonName: \"serine biosynthesis (phosphorylated route)\"}) - [*2..5] -> (drugclass:DrugClass {commonName: \"Adrenergic Agonists\"}) WHERE pathway.commonName = \"3-Hydroxy-3-Methylglutaryl-CoA Lyase Deficiency\" RETURN pathway.commonName;',\n",
       " 'MATCH (bodypart:BodyPart {commonName: \"umbilical artery\"}) - [*1..] -> (pathway:Pathway {commonName: \"Defective CYP1B1 causes Glaucoma\"}) RETURN bodypart.commonName, pathway.commonName;',\n",
       " 'MATCH (symptom:Symptom {commonName: \"Hot Flashes\"}) - [*2..] -> (disease:Disease {commonName: \"Lewy Body Variant of Alzheimer Disease\"}) RETURN symptom.commonName, disease.commonName;',\n",
       " 'MATCH (drugclass:DrugClass {commonName: \"Increased Diuresis at Loop of Henle\"}) - [:DRUGINCLASS] -> (cellularcomponent:CellularComponent {commonName: \"coated vesicle membrane\"}) WHERE drugclass.commonName = \"Uncompetitive NMDA Receptor Antagonists\" RETURN cellularcomponent.commonName;',\n",
       " 'MATCH (drug:Drug {commonName: \"NasoVAX\"}) - [*1..] -> (drugclass:DrugClass {commonName: \"Carbonic Anhydrase Inhibitors\"}) WHERE drug.commonName = \"4-(1,3-BENZOXAZOL-2-YL)-2,6-DIMETHYLPHENOL\" RETURN drug.commonName, drugclass.commonName;',\n",
       " 'MATCH (symptom:Symptom {commonName: \"Dyssomnias\"}) - [*2..] -> (gene:Gene {geneSymbol: \"LOC130064371\"}) WHERE gene.commonName = \"long intergenic non-protein coding RNA 2634\" RETURN gene.geneSymbol;',\n",
       " 'MATCH (symptom:Symptom {commonName: \"Hypocapnia\"}) - [:CHEMICALDECREASESEXPRESSION] -> (pathway:Pathway {commonName: \"NrCAM interactions\"}) RETURN symptom.commonName, pathway.commonName;',\n",
       " 'MATCH (drugclass:DrugClass {commonName: \"Thyroid Hormone Synthesis Inhibitors\"}) - [*1..3] -> (molecularfunction:MolecularFunction {commonName: \"solute:proton antiporter activity\"}) WHERE molecularfunction.commonName = \"histamine receptor activity\" RETURN drugclass.commonName;',\n",
       " 'MATCH (bodypart:BodyPart {commonName: \"epiphysis\"}) - [:SYMPTOMMANIFESTATIONOFDISEASE] -> (gene:Gene {geneSymbol: \"LOC127895957\"}) RETURN bodypart.commonName;',\n",
       " 'MATCH (molecularfunction:MolecularFunction {commonName: \"acetyl-CoA carboxylase activity\"}) - [*..3] -> (symptom:Symptom {commonName: \"Snoring\"}) RETURN symptom.commonName, molecularfunction.commonName;']"
      ]
     },
     "execution_count": 5,
     "metadata": {},
     "output_type": "execute_result"
    }
   ],
   "source": [
    "ea.str_population"
   ]
  },
  {
   "cell_type": "code",
   "execution_count": 6,
   "metadata": {},
   "outputs": [
    {
     "name": "stderr",
     "output_type": "stream",
     "text": [
      "INFO:root:Processing batch 0\n",
      "INFO:root:Validity check done\n",
      "INFO:root:Coverage metric done\n",
      "INFO:root:Evaluation done\n",
      "INFO:root:Generation 0 starts parent selection and mutation\n",
      "INFO:root:mutating Condition\n",
      "INFO:root:found WHERE\n",
      "INFO:root:mutating Node\n",
      "INFO:root:mutating Node\n",
      "INFO:root:mutating Node\n",
      "INFO:root:mutating Node\n",
      "INFO:root:mutating Condition\n",
      "INFO:root:found WHERE\n",
      "INFO:root:mutating Condition\n",
      "INFO:root:found WHERE\n",
      "INFO:root:mutating Node\n",
      "INFO:root:mutating Condition\n",
      "INFO:root:found WHERE\n",
      "INFO:root:mutating Node\n",
      "INFO:root:Current generation of mutation done\n",
      "INFO:root:Processing batch 0\n"
     ]
    },
    {
     "name": "stdout",
     "output_type": "stream",
     "text": [
      "Current Batch queried.\n",
      "Merged CSV saved as merged_results.csv\n"
     ]
    },
    {
     "name": "stderr",
     "output_type": "stream",
     "text": [
      "Failed query: MATCH (drugclass:DrugClass {commonName: \"Thyroid Hormone Synthesis Inhibitors\"}) - [*1..3] -> (gene:Gene {commonName: \"cingulin\"}) WHERE molecularfunction.commonName = \"histamine receptor activity\" RETURN drugclass.commonName\n",
      "Client received query exception: Unbound variable: molecularfunction.\n"
     ]
    },
    {
     "name": "stdout",
     "output_type": "stream",
     "text": [
      "Query execution failed, writing 'failed' to ./outputs/0/12.csv\n"
     ]
    },
    {
     "name": "stderr",
     "output_type": "stream",
     "text": [
      "Failed query: MATCH (molecularfunction1:MolecularFunction {commonName: \"RNA polymerase III regulatory region DNA binding\"}) - [*2..5] -> (drugclass:DrugClass {commonName: \"Adrenergic Agonists\"}) WHERE pathway.commonName = \"3-Hydroxy-3-Methylglutaryl-CoA Lyase Deficiency\" RETURN drugclass.commonName\n",
      "Client received query exception: Unbound variable: pathway.\n"
     ]
    },
    {
     "name": "stdout",
     "output_type": "stream",
     "text": [
      "Query execution failed, writing 'failed' to ./outputs/0/18.csv\n"
     ]
    },
    {
     "name": "stderr",
     "output_type": "stream",
     "text": [
      "INFO:root:Validity check done\n",
      "INFO:root:Coverage metric done\n",
      "INFO:root:Evaluation done\n",
      "INFO:root:Population increased to 15\n",
      "INFO:root:Generation 1 starts parent selection and mutation\n",
      "INFO:root:mutating Condition\n",
      "INFO:root:WHERE not found, adding condition\n",
      "INFO:root:mutating Condition\n",
      "INFO:root:WHERE not found, adding condition\n",
      "INFO:root:mutating Node\n",
      "INFO:root:mutating Node\n",
      "INFO:root:mutating Condition\n",
      "INFO:root:found WHERE\n",
      "INFO:root:mutating Condition\n",
      "INFO:root:found WHERE\n",
      "INFO:root:mutating Condition\n",
      "INFO:root:found WHERE\n",
      "INFO:root:mutating Node\n",
      "INFO:root:mutating Condition\n",
      "INFO:root:WHERE not found, adding condition\n",
      "INFO:root:mutating Condition\n",
      "INFO:root:WHERE not found, adding condition\n",
      "INFO:root:mutating Node\n",
      "INFO:root:mutating Condition\n",
      "INFO:root:found WHERE\n",
      "INFO:root:mutating Node\n",
      "INFO:root:mutating Condition\n",
      "INFO:root:found WHERE\n",
      "INFO:root:mutating Condition\n",
      "INFO:root:WHERE not found, adding condition\n",
      "INFO:root:Current generation of mutation done\n",
      "INFO:root:Processing batch 0\n"
     ]
    },
    {
     "name": "stdout",
     "output_type": "stream",
     "text": [
      "Current Batch queried.\n",
      "Merged CSV saved as merged_results.csv\n"
     ]
    },
    {
     "name": "stderr",
     "output_type": "stream",
     "text": [
      "Failed query: MATCH (bodypart:BodyPart {commonName: \"clitoris\"}) - [:GENEASSOCIATESWITHDISEASE] -> (drug1:Drug {commonName: \"Sweet potato\"}) WHERE pathway.commonName = \"Prolinemia Type II\" RETURN bodypart.commonName\n",
      "Client received query exception: Unbound variable: pathway.\n"
     ]
    },
    {
     "name": "stdout",
     "output_type": "stream",
     "text": [
      "Query execution failed, writing 'failed' to ./outputs/0/4.csv\n"
     ]
    },
    {
     "name": "stderr",
     "output_type": "stream",
     "text": [
      "INFO:root:Validity check done\n",
      "INFO:root:Coverage metric done\n",
      "INFO:root:Evaluation done\n",
      "INFO:root:Population increased to 22\n",
      "INFO:root:Generation 2 starts parent selection and mutation\n",
      "INFO:root:mutating Node\n",
      "INFO:root:mutating Condition\n",
      "INFO:root:found WHERE\n",
      "INFO:root:mutating Condition\n",
      "INFO:root:found WHERE\n",
      "INFO:root:mutating Condition\n",
      "INFO:root:found WHERE\n",
      "INFO:root:mutating Condition\n",
      "INFO:root:found WHERE\n",
      "INFO:root:mutating Condition\n",
      "INFO:root:found WHERE\n",
      "INFO:root:mutating Node\n",
      "INFO:root:mutating Condition\n",
      "INFO:root:found WHERE\n",
      "INFO:root:mutating Node\n",
      "INFO:root:mutating Node\n",
      "INFO:root:mutating Condition\n",
      "INFO:root:found WHERE\n",
      "INFO:root:mutating Node\n",
      "INFO:root:mutating Condition\n",
      "INFO:root:WHERE not found, adding condition\n",
      "INFO:root:mutating Node\n",
      "INFO:root:mutating Condition\n",
      "INFO:root:found WHERE\n",
      "INFO:root:mutating Node\n",
      "INFO:root:mutating Condition\n",
      "INFO:root:WHERE not found, adding condition\n",
      "INFO:root:mutating Node\n",
      "INFO:root:mutating Condition\n",
      "INFO:root:found WHERE\n",
      "INFO:root:mutating Condition\n",
      "INFO:root:found WHERE\n",
      "INFO:root:mutating Node\n",
      "INFO:root:mutating Condition\n",
      "INFO:root:found WHERE\n",
      "INFO:root:Current generation of mutation done\n",
      "INFO:root:Processing batch 0\n",
      "INFO:root:Processing batch 1\n"
     ]
    },
    {
     "name": "stdout",
     "output_type": "stream",
     "text": [
      "Current Batch queried.\n",
      "Merged CSV saved as merged_results.csv\n"
     ]
    },
    {
     "name": "stderr",
     "output_type": "stream",
     "text": [
      "Failed query: MATCH (bodypart:BodyPart {commonName: \"basilar membrane of cochlea\"}) - [*1..] -> (molecularfunction:MolecularFunction {commonName: \"RNA polymerase II core promoter sequence-specific DNA binding\"}) WHERE cellularcomponent.commonName = \"exocytic vesicle\" RETURN molecularfunction.commonName\n",
      "Client received query exception: Unbound variable: cellularcomponent.\n"
     ]
    },
    {
     "name": "stdout",
     "output_type": "stream",
     "text": [
      "Query execution failed, writing 'failed' to ./outputs/1/2.csv\n"
     ]
    },
    {
     "name": "stderr",
     "output_type": "stream",
     "text": [
      "Failed query: MATCH (drug:Drug {commonName: \"Sebacic acid\"}) - [:DISEASEASSOCIATESWITHDISEASE] -> (cellularcomponent1:CellularComponent {commonName: \"nuclear chromatin\"}) WHERE bodypart.commonName = \"facial nerve\" RETURN drug.commonName\n",
      "Client received query exception: Unbound variable: bodypart.\n"
     ]
    },
    {
     "name": "stdout",
     "output_type": "stream",
     "text": [
      "Query execution failed, writing 'failed' to ./outputs/1/4.csv\n"
     ]
    },
    {
     "name": "stderr",
     "output_type": "stream",
     "text": [
      "Failed query: MATCH (drugclass1:DrugClass {commonName: \"Azoles\"}) - [*2..3] -> (molecularfunction:MolecularFunction {commonName: \"divalent inorganic cation transmembrane transporter activity\"}) WHERE biologicalprocess.commonName = \"positive regulation of canonical Wnt signaling pathway\" RETURN drugclass1.commonName\n",
      "Client received query exception: Unbound variable: biologicalprocess.\n",
      "Failed query: MATCH (bodypart:BodyPart {commonName: \"clitoris\"}) - [:GENEASSOCIATESWITHDISEASE] -> (cellularcomponent:CellularComponent {commonName: \"outer mitochondrial membrane protein complex\"}) WHERE pathway.commonName = \"Prolinemia Type II\" RETURN cellularcomponent.commonName\n",
      "Client received query exception: Unbound variable: pathway.\n"
     ]
    },
    {
     "name": "stdout",
     "output_type": "stream",
     "text": [
      "Query execution failed, writing 'failed' to ./outputs/1/6.csv\n",
      "Query execution failed, writing 'failed' to ./outputs/0/7.csv\n",
      "Current Batch queried.\n"
     ]
    },
    {
     "name": "stderr",
     "output_type": "stream",
     "text": [
      "INFO:root:Validity check done\n",
      "INFO:root:Coverage metric done\n",
      "INFO:root:Evaluation done\n",
      "INFO:root:Population increased to 33\n",
      "INFO:root:Generation 3 starts parent selection and mutation\n",
      "INFO:root:mutating Condition\n",
      "INFO:root:WHERE not found, adding condition\n",
      "INFO:root:mutating Node\n",
      "INFO:root:mutating Condition\n",
      "INFO:root:WHERE not found, adding condition\n",
      "INFO:root:mutating Condition\n",
      "INFO:root:found WHERE\n",
      "INFO:root:mutating Node\n",
      "INFO:root:mutating Node\n",
      "INFO:root:mutating Node\n",
      "INFO:root:mutating Condition\n",
      "INFO:root:WHERE not found, adding condition\n",
      "INFO:root:mutating Node\n",
      "INFO:root:mutating Node\n",
      "INFO:root:mutating Condition\n",
      "INFO:root:found WHERE\n",
      "INFO:root:mutating Node\n",
      "INFO:root:mutating Condition\n",
      "INFO:root:WHERE not found, adding condition\n",
      "INFO:root:mutating Condition\n",
      "INFO:root:WHERE not found, adding condition\n",
      "INFO:root:mutating Node\n",
      "INFO:root:mutating Condition\n",
      "INFO:root:WHERE not found, adding condition\n",
      "INFO:root:mutating Condition\n",
      "INFO:root:found WHERE\n",
      "INFO:root:mutating Condition\n",
      "INFO:root:found WHERE\n",
      "INFO:root:mutating Condition\n",
      "INFO:root:WHERE not found, adding condition\n",
      "INFO:root:mutating Node\n",
      "INFO:root:mutating Node\n",
      "INFO:root:mutating Node\n",
      "INFO:root:mutating Condition\n",
      "INFO:root:WHERE not found, adding condition\n",
      "INFO:root:mutating Condition\n",
      "INFO:root:WHERE not found, adding condition\n",
      "INFO:root:mutating Condition\n",
      "INFO:root:found WHERE\n",
      "INFO:root:mutating Condition\n",
      "INFO:root:WHERE not found, adding condition\n",
      "INFO:root:mutating Condition\n",
      "INFO:root:found WHERE\n",
      "INFO:root:mutating Node\n",
      "INFO:root:mutating Condition\n",
      "INFO:root:WHERE not found, adding condition\n",
      "INFO:root:mutating Node\n",
      "INFO:root:mutating Condition\n",
      "INFO:root:WHERE not found, adding condition\n",
      "INFO:root:mutating Condition\n",
      "INFO:root:found WHERE\n",
      "INFO:root:mutating Node\n",
      "INFO:root:Current generation of mutation done\n"
     ]
    },
    {
     "name": "stdout",
     "output_type": "stream",
     "text": [
      "Current Batch queried.\n",
      "Merged CSV saved as merged_results.csv\n"
     ]
    },
    {
     "name": "stderr",
     "output_type": "stream",
     "text": [
      "INFO:root:Processing batch 0\n",
      "INFO:root:Processing batch 1\n",
      "INFO:root:Processing batch 2\n",
      "Failed query: MATCH (gene:Gene {geneSymbol: \"LINC02125\"}) - [:GENEASSOCIATESWITHDISEASE] -> (drug1:Drug {commonName: \"Sweet potato\"}) WHERE pathway.commonName = \"Prolinemia Type II\" RETURN gene.geneSymbol\n",
      "Client received query exception: Unbound variable: pathway.\n"
     ]
    },
    {
     "name": "stdout",
     "output_type": "stream",
     "text": [
      "Query execution failed, writing 'failed' to ./outputs/0/2.csv\n"
     ]
    },
    {
     "name": "stderr",
     "output_type": "stream",
     "text": [
      "Failed query: MATCH (drugclass1:DrugClass {commonName: \"Azoles\"}) - [*2..3] -> (drug:Drug {commonName: \"Bevantolol\"}) WHERE biologicalprocess.commonName = \"positive regulation of canonical Wnt signaling pathway\" RETURN drug.commonName\n",
      "Client received query exception: Unbound variable: biologicalprocess.\n",
      "Failed query: MATCH (gene:Gene {commonName: \"-\"}) - [*1] -> (molecularfunction:MolecularFunction {commonName: \"glucuronosyl-N-acetylgalactosaminyl-proteoglycan 4-beta-N-acetylgalactosaminyltransferase activity\"}) WHERE drug.commonName = \"Alcuronium\" RETURN gene.commonName\n",
      "Client received query exception: Unbound variable: drug.\n"
     ]
    },
    {
     "name": "stdout",
     "output_type": "stream",
     "text": [
      "Query execution failed, writing 'failed' to ./outputs/0/5.csv\n",
      "Query execution failed, writing 'failed' to ./outputs/0/6.csv\n"
     ]
    },
    {
     "name": "stderr",
     "output_type": "stream",
     "text": [
      "Failed query: MATCH (gene1:Gene {geneSymbol: \"LOC127275712\"}) - [*..6] -> (disease:Disease {commonName: \"Alzheimer disease type 1\"}) WHERE cellularcomponent.commonName = \"calcineurin complex\" RETURN disease.commonName\n",
      "Client received query exception: Unbound variable: cellularcomponent.\n"
     ]
    },
    {
     "name": "stdout",
     "output_type": "stream",
     "text": [
      "Query execution failed, writing 'failed' to ./outputs/0/7.csv\n",
      "Current Batch queried.\n",
      "Query execution failed, writing 'failed' to ./outputs/0/9.csv\n",
      "Current Batch queried.\n"
     ]
    },
    {
     "name": "stderr",
     "output_type": "stream",
     "text": [
      "INFO:root:Validity check done\n",
      "INFO:root:Coverage metric done\n",
      "INFO:root:Evaluation done\n",
      "INFO:root:Population increased to 49\n"
     ]
    },
    {
     "name": "stdout",
     "output_type": "stream",
     "text": [
      "Current Batch queried.\n",
      "Merged CSV saved as merged_results.csv\n"
     ]
    }
   ],
   "source": [
    "final = ea.Evolve()"
   ]
  },
  {
   "cell_type": "code",
   "execution_count": 9,
   "metadata": {},
   "outputs": [
    {
     "data": {
      "text/plain": [
       "49"
      ]
     },
     "execution_count": 9,
     "metadata": {},
     "output_type": "execute_result"
    }
   ],
   "source": [
    "len(final)"
   ]
  },
  {
   "cell_type": "code",
   "execution_count": 10,
   "metadata": {},
   "outputs": [
    {
     "data": {
      "text/plain": [
       "['MATCH (molecularfunction:MolecularFunction {commonName: \"malic enzyme activity\"}) - [:GENEINPATHWAY*3] -> (cellularcomponent:CellularComponent {commonName: \"dolichol-phosphate-mannose synthase complex\"}) WHERE cellularcomponent.commonName = \"MHC class I peptide loading complex\" RETURN molecularfunction.commonName;',\n",
       " 'MATCH (disease:Disease {commonName: \"Lewy Body Variant of Alzheimer Disease\"}) - [:GENEINPATHWAY*3] -> (cellularcomponent:CellularComponent {commonName: \"dolichol-phosphate-mannose synthase complex\"}) WHERE cellularcomponent.commonName = \"MHC class I peptide loading complex\" RETURN cellularcomponent.commonName;',\n",
       " 'MATCH (pathway1:Pathway {commonName: \"Validated transcriptional targets of AP1 family members Fra1 and Fra2\"}) - [:GENEINPATHWAY*3] -> (cellularcomponent:CellularComponent {commonName: \"dolichol-phosphate-mannose synthase complex\"}) WHERE cellularcomponent.commonName = \"MHC class I peptide loading complex\" RETURN cellularcomponent.commonName;',\n",
       " 'MATCH (molecularfunction:MolecularFunction {commonName: \"malic enzyme activity\"}) - [:GENEINPATHWAY*3] -> (biologicalprocess:BiologicalProcess {commonName: \"regulation of ketone biosynthetic process\"}) WHERE cellularcomponent.commonName = \"MHC class I peptide loading complex\" RETURN molecularfunction.commonName;',\n",
       " 'MATCH (cellularcomponent:CellularComponent {commonName: \"intraciliary transport particle A\"}) - [*2..7] -> (symptom:Symptom {commonName: \"Lethargy\"}) WHERE cellularcomponent.commonName = \"ribose phosphate diphosphokinase complex\" RETURN cellularcomponent.commonName;',\n",
       " 'MATCH (pathway:Pathway {commonName: \"Diurnally Regulated Genes with Circadian Orthologs\"}) - [*..5] -> (bodypart:BodyPart {commonName: \"pituitary gland\"}) WHERE pathway.commonName = \"Apoptosis\" RETURN pathway.commonName;',\n",
       " 'MATCH (symptom1:Symptom {commonName: \"REM Sleep Parasomnias\"}) - [*2..] -> (symptom:Symptom {commonName: \"Hypergammaglobulinemia\"}) WHERE symptom.commonName = \"Postoperative Nausea and Vomiting\" RETURN symptom1.commonName;',\n",
       " 'MATCH (disease:Disease {commonName: \"Familial Alzheimer Disease (FAD)\"}) - [*..6] -> (symptom:Symptom {commonName: \"Mouth Breathing\"}) WHERE symptom.commonName = \"Renal Colic\" RETURN symptom.commonName;',\n",
       " 'MATCH (disease:Disease {commonName: \"Familial Alzheimer Disease (FAD)\"}) - [*..6] -> (symptom:Symptom {commonName: \"Mouth Breathing\"}) WHERE symptom.commonName = \"Renal Colic\" RETURN symptom.commonName;',\n",
       " 'MATCH (pathway:Pathway {commonName: \"Diurnally Regulated Genes with Circadian Orthologs\"}) - [*..5] -> (bodypart:BodyPart {commonName: \"pituitary gland\"}) WHERE pathway.commonName = \"Apoptosis\" RETURN bodypart.commonName;',\n",
       " 'MATCH (pathway:Pathway {commonName: \"Diurnally Regulated Genes with Circadian Orthologs\"}) - [*..5] -> (bodypart:BodyPart {commonName: \"pituitary gland\"}) WHERE pathway.commonName = \"Apoptosis\" RETURN bodypart.commonName;',\n",
       " 'MATCH (disease:Disease {commonName: \"Familial Alzheimer Disease (FAD)\"}) - [*..6] -> (symptom:Symptom {commonName: \"Mouth Breathing\"}) WHERE symptom.commonName = \"Renal Colic\" RETURN symptom.commonName;',\n",
       " 'MATCH (pathway:Pathway {commonName: \"Interaction between PHLDA1 and AURKA\"}) - [*2..] -> (symptom:Symptom {commonName: \"Hypergammaglobulinemia\"}) WHERE symptom.commonName = \"Postoperative Nausea and Vomiting\" RETURN pathway.commonName;',\n",
       " 'MATCH (disease:Disease {commonName: \"Familial Alzheimer Disease (FAD)\"}) - [*..6] -> (symptom:Symptom {commonName: \"Mouth Breathing\"}) WHERE symptom.commonName = \"Renal Colic\" RETURN symptom.commonName;',\n",
       " 'MATCH (pathway:Pathway {commonName: \"Diurnally Regulated Genes with Circadian Orthologs\"}) - [*..5] -> (gene:Gene {geneSymbol: \"LOC130061686\"}) WHERE pathway.commonName = \"Apoptosis\" RETURN pathway.commonName;',\n",
       " 'MATCH (molecularfunction:MolecularFunction {commonName: \"lysine N-acetyltransferase activity, acting on acetyl phosphate as donor\"}) - [:BODYPARTUNDEREXPRESSESGENE*2] -> (gene:Gene {commonName: \"olfactory receptor family 9 subfamily G member 9\"}) RETURN gene.geneSymbol;',\n",
       " 'MATCH (gene:Gene {commonName: \"-\"}) - [:BODYPARTUNDEREXPRESSESGENE*..6] -> (biologicalprocess:BiologicalProcess {commonName: \"chemokine (C-C motif) ligand 11 production\"}) WHERE biologicalprocess.commonName = \"hexose biosynthetic process\" RETURN gene.commonName;',\n",
       " 'MATCH (bodypart:BodyPart {commonName: \"internal carotid artery\"}) - [:BODYPARTUNDEREXPRESSESGENE*..6] -> (biologicalprocess:BiologicalProcess {commonName: \"chemokine (C-C motif) ligand 11 production\"}) WHERE biologicalprocess.commonName = \"hexose biosynthetic process\" RETURN bodypart.commonName;',\n",
       " 'MATCH (cellularcomponent:CellularComponent {commonName: \"intraciliary transport particle A\"}) - [*2..7] -> (symptom:Symptom {commonName: \"Lethargy\"}) WHERE cellularcomponent.commonName = \"ribose phosphate diphosphokinase complex\" RETURN cellularcomponent.commonName;',\n",
       " 'MATCH (biologicalprocess:BiologicalProcess {commonName: \"regulation of serotonin secretion\"}) - [*..3] -> (molecularfunction:MolecularFunction {commonName: \"death receptor binding\"}) RETURN molecularfunction.commonName;',\n",
       " 'MATCH (molecularfunction:MolecularFunction {commonName: \"malic enzyme activity\"}) - [:GENEINPATHWAY*3] -> (cellularcomponent:CellularComponent {commonName: \"dolichol-phosphate-mannose synthase complex\"}) WHERE cellularcomponent.commonName = \"MHC class I peptide loading complex\" RETURN cellularcomponent.commonName;',\n",
       " 'MATCH (biologicalprocess:BiologicalProcess {commonName: \"positive regulation of histone H3-K9 dimethylation\"}) - [*..6] -> (cellularcomponent:CellularComponent {commonName: \"signal recognition particle\"}) RETURN cellularcomponent.commonName;',\n",
       " 'MATCH (drugclass:DrugClass {commonName: \"Thiazides\"}) - [*3] -> (gene:Gene {commonName: \"-\"}) RETURN gene.geneSymbol;',\n",
       " 'MATCH (pathway:Pathway {commonName: \"Interaction between PHLDA1 and AURKA\"}) - [*2..] -> (symptom:Symptom {commonName: \"Hypergammaglobulinemia\"}) WHERE symptom.commonName = \"Postoperative Nausea and Vomiting\" RETURN pathway.commonName;',\n",
       " 'MATCH (pathway:Pathway {commonName: \"Diurnally Regulated Genes with Circadian Orthologs\"}) - [*..5] -> (bodypart:BodyPart {commonName: \"pituitary gland\"}) WHERE pathway.commonName = \"Apoptosis\" RETURN pathway.commonName;',\n",
       " 'MATCH (molecularfunction:MolecularFunction {commonName: \"apolipoprotein A-I binding\"}) - [*1] -> (symptom:Symptom {commonName: \"Arthralgia\"}) RETURN symptom.commonName;',\n",
       " 'MATCH (biologicalprocess:BiologicalProcess {commonName: \"regulation of serotonin secretion\"}) - [*..3] -> (molecularfunction:MolecularFunction {commonName: \"death receptor binding\"}) RETURN biologicalprocess.commonName;',\n",
       " 'MATCH (biologicalprocess:BiologicalProcess {commonName: \"regulation of serotonin secretion\"}) - [*..3] -> (drug:Drug {commonName: \"Brifentanil\"}) RETURN biologicalprocess.commonName;',\n",
       " 'MATCH (biologicalprocess:BiologicalProcess {commonName: \"positive regulation of histone H3-K9 dimethylation\"}) - [*..6] -> (cellularcomponent:CellularComponent {commonName: \"signal recognition particle\"}) RETURN biologicalprocess.commonName;',\n",
       " 'MATCH (biologicalprocess:BiologicalProcess {commonName: \"interleukin-12 secretion\"}) - [:BODYPARTUNDEREXPRESSESGENE] -> (cellularcomponent:CellularComponent {commonName: \"mitochondrial inner membrane\"}) RETURN biologicalprocess.commonName;',\n",
       " 'MATCH (biologicalprocess:BiologicalProcess {commonName: \"regulation of serotonin secretion\"}) - [*..3] -> (molecularfunction:MolecularFunction {commonName: \"death receptor binding\"}) RETURN biologicalprocess.commonName;',\n",
       " 'MATCH (biologicalprocess:BiologicalProcess {commonName: \"positive regulation of histone H3-K9 dimethylation\"}) - [*..6] -> (cellularcomponent:CellularComponent {commonName: \"signal recognition particle\"}) RETURN biologicalprocess.commonName;',\n",
       " 'MATCH (molecularfunction:MolecularFunction {commonName: \"apolipoprotein A-I binding\"}) - [*1] -> (symptom:Symptom {commonName: \"Arthralgia\"}) RETURN symptom.commonName;',\n",
       " 'MATCH (pathway:Pathway {commonName: \"Phase II conjugation\"}) - [:SYMPTOMMANIFESTATIONOFDISEASE*..5] -> (biologicalprocess:BiologicalProcess {commonName: \"optic placode formation\"}) WHERE pathway.commonName = \"Loss of phosphorylation of MECP2 at T308\" RETURN biologicalprocess.commonName;',\n",
       " 'MATCH (drugclass:DrugClass {commonName: \"Vitamin K Inhibitors\"}) - [*1..2] -> (cellularcomponent:CellularComponent {commonName: \"cytosolic ribosome\"}) RETURN cellularcomponent.commonName;',\n",
       " 'MATCH (bodypart:BodyPart {commonName: \"nervous system\"}) - [*3..8] -> (drugclass:DrugClass {commonName: \"Cystine Disulfide Reduction\"}) RETURN bodypart.commonName;',\n",
       " 'MATCH (pathway:Pathway {commonName: \"Proteasome - Homo sapiens (human)\"}) - [*1..6] -> (drug:Drug {commonName: \"Chymotrypsin\"}) WHERE drug.commonName = \"(2R)-3-Methyl-1-phenyl-2-butanyl [(2S)-1-oxo-2-hexanyl]carbamate\" RETURN drug.commonName;',\n",
       " 'MATCH (disease:Disease {commonName: \"Alzheimer Disease, Familial, 3, with Spastic Paraparesis and Unusual Plaques\"}) - [*2] -> (bodypart:BodyPart {commonName: \"lymphoid tissue\"}) RETURN bodypart.commonName;',\n",
       " 'MATCH (pathway:Pathway {commonName: \"Regulation of Hypoxia-inducible Factor (HIF) by oxygen\"}) - [:GENEASSOCIATESWITHDISEASE*..6] -> (symptom:Symptom {commonName: \"Purpura, Schoenlein-Henoch\"}) WHERE symptom.commonName = \"Tics\" RETURN pathway.commonName;',\n",
       " 'MATCH (cellularcomponent:CellularComponent {commonName: \"integrin alphav-beta3 complex\"}) - [*2..] -> (drugclass:DrugClass {commonName: \"beta Lactamase Inhibitors\"}) RETURN cellularcomponent.commonName;',\n",
       " 'MATCH (gene:Gene {commonName: \"-\"}) - [*2..] -> (cellularcomponent:CellularComponent {commonName: \"female pronucleus\"}) WHERE gene.commonName = \"-\" RETURN cellularcomponent.commonName;',\n",
       " 'MATCH (drugclass:DrugClass {commonName: \"Breast Cancer Resistance Protein Inhibitors\"}) - [*..4] -> (biologicalprocess:BiologicalProcess {commonName: \"nucleotide biosynthetic process\"}) WHERE biologicalprocess.commonName = \"ventricular system development\" RETURN biologicalprocess.commonName;',\n",
       " 'MATCH (molecularfunction:MolecularFunction {commonName: \"nucleocytoplasmic transporter activity\"}) - [*3..] -> (drug:Drug {commonName: \"FAV-201\"}) WHERE drug.commonName = \"FG-9041\" RETURN drug.commonName;',\n",
       " 'MATCH (bodypart:BodyPart {commonName: \"external carotid artery\"}) - [*3] -> (cellularcomponent:CellularComponent {commonName: \"mitochondrial respiratory chain complex III\"}) RETURN cellularcomponent.commonName;',\n",
       " 'MATCH (gene:Gene {commonName: \"RNA, U5E small nuclear 5, pseudogene\"}) - [*2..] -> (bodypart:BodyPart {commonName: \"internal ear\"}) WHERE bodypart.commonName = \"sublingual gland\" RETURN bodypart.commonName;',\n",
       " 'MATCH (bodypart:BodyPart {commonName: \"uterine cervix\"}) - [*2] -> (drug:Drug {commonName: \"L-histidinol phosphate\"}) WHERE bodypart.commonName = \"cerumen\" RETURN drug.commonName;',\n",
       " 'MATCH (drugclass:DrugClass {commonName: \"Oxazolidinones\"}) - [*3] -> (drugclass1:DrugClass {commonName: \"Cytochrome P450 2B6 Inhibitors\"}) RETURN drugclass1.commonName;',\n",
       " 'MATCH (molecularfunction:MolecularFunction {commonName: \"uridylate kinase activity\"}) - [*1..] -> (pathway:Pathway {commonName: \"Non-homologous end-joining - Homo sapiens (human)\"}) RETURN molecularfunction.commonName;',\n",
       " 'MATCH (drugclass:DrugClass {commonName: \"Adrenergic Agonists\"}) - [*2..] -> (molecularfunction:MolecularFunction {commonName: \"antioxidant activity\"}) WHERE molecularfunction.commonName = \"TAP2 binding\" RETURN molecularfunction.commonName;']"
      ]
     },
     "execution_count": 10,
     "metadata": {},
     "output_type": "execute_result"
    }
   ],
   "source": [
    "final"
   ]
  },
  {
   "cell_type": "code",
   "execution_count": null,
   "metadata": {},
   "outputs": [],
   "source": [
    "ea.reset_ea()"
   ]
  },
  {
   "cell_type": "markdown",
   "metadata": {},
   "source": [
    "#### Multiprocessing queries by connecting to mgconsole"
   ]
  },
  {
   "cell_type": "markdown",
   "metadata": {},
   "source": [
    "Things to do for the next step:\n",
    "\n",
    "- first, change the fucntion to make sure the TreeNode mutation only changes the offspring\n",
    "\n",
    "\n",
    "further adding to the Evaluation\n",
    "Ideal workflow:\n",
    "\n",
    "Generation 0:\n",
    "  - Generate initial population \n",
    "  - Calculate fitness for each individual\n",
    "\n",
    "For each subsequent Generation (1 to N):\n",
    "  - Select parents based on fitness\n",
    "  - Perform （crossover） and mutation to create offspring\n",
    "  - Calculate fitness for each new offspring\n",
    "  - Select individuals for the next generation based on fitness\n",
    "\n",
    "End of Algorithm:\n",
    "  - Optionally, perform a final assessment of the population’s fitness\n",
    "  - Output the best-performing individuals\n",
    "\n",
    "initialize_population()\n",
    "def Evolve(self):\n",
    "    while self.generation <= self.max_generation:\n",
    "        self.evaluate_population()\n",
    "        parents = self.Selection()\n",
    "        offsprings = self.Reproduction(parents)\n",
    "        for tree in self.tree_population:\n",
    "            del tree\n",
    "        self.tree_population = []\n",
    "        self.tree_population = offsprings\n",
    "        self.generation += 1\n",
    "\n",
    "\n",
    "def fitness_function(query_result, max_possible_relationship_types, execution_time, max_time):\n",
    "    unique_types = coverage_of_relationship_types(query_result)\n",
    "    normalized_type_coverage = unique_types / max_possible_relationship_types\n",
    "    normalized_time_penalty = execution_time / max_time\n",
    "\n",
    "    # Weight factors (example weights, adjust based on your specific needs)\n",
    "    weight_coverage = 0.7\n",
    "    weight_time = 0.3\n",
    "\n",
    "    # Fitness score calculation\n",
    "    score = (weight_coverage * normalized_type_coverage) - (weight_time * normalized_time_penalty)\n",
    "    return score\n",
    "\n",
    "metrics to be weighted together in the fitness_function: \n",
    "- Valid_%: percentage of valid queries. MAX\n",
    "- RelType_%: number of different relationship types (hops, specifics). MAX\n",
    "- Complexity_#: number of unique complexity levels (depths). MAX\n",
    "- NodeType_%: coverage of unique node types\n",
    "\n",
    "Keep track of \n",
    "- Results returned: avoid or penalize repeated results => uniqueness \n",
    "- Relationship type: so that individual query can be assessed on whether it contributes to the uniqueness of relationship\n",
    "- depth (complexity of query)\n",
    "\n"
   ]
  },
  {
   "cell_type": "code",
   "execution_count": null,
   "metadata": {},
   "outputs": [],
   "source": [
    "ea.str_population"
   ]
  },
  {
   "cell_type": "code",
   "execution_count": null,
   "metadata": {},
   "outputs": [],
   "source": [
    "def evolutionary_algorithm():\n",
    "    population = initialize_population()\n",
    "    generation = 0\n",
    "    \n",
    "    while not termination_condition():\n",
    "        offspring = []\n",
    "        \n",
    "        while len(offspring) < population_size:\n",
    "            parent1 = tournament_selection(population)\n",
    "            parent2 = tournament_selection(population)\n",
    "            child = crossover(parent1, parent2)\n",
    "            child = mutate(child)\n",
    "            offspring.append(child)\n",
    "        \n",
    "        evaluate_fitness(offspring)\n",
    "        \n",
    "        if generation % 5 == 0:\n",
    "            # Full generational replacement every 5th generation\n",
    "            population = select_best(offspring, population_size)\n",
    "        else:\n",
    "            # Steady-state replacement\n",
    "            combined = population + offspring\n",
    "            population = select_best_with_diversity(combined, population_size)\n",
    "        \n",
    "        adjust_population_size()\n",
    "        generation += 1\n",
    "    \n",
    "    return best_individual(population)\n",
    "\n",
    "def select_best_with_diversity(combined, size):\n",
    "    # Sort by fitness\n",
    "    sorted_individuals = sort_by_fitness(combined)\n",
    "    \n",
    "    # Ensure 20% of new population returns results\n",
    "    min_valid = int(0.2 * size)\n",
    "    valid_queries = [ind for ind in sorted_individuals if ind.returns_results()]\n",
    "    \n",
    "    new_population = valid_queries[:min_valid]\n",
    "    remaining_slots = size - len(new_population)\n",
    "    \n",
    "    # Fill remaining slots with best individuals\n",
    "    new_population.extend(sorted_individuals[:remaining_slots])\n",
    "    \n",
    "    return new_population\n",
    "\n",
    "def adjust_population_size():\n",
    "    valid_percentage = percentage_of_valid_queries(population)\n",
    "    if valid_percentage < threshold:\n",
    "        increase_population_size()\n",
    "    elif valid_percentage > upper_threshold and population_size > original_size:\n",
    "        decrease_population_size()"
   ]
  },
  {
   "cell_type": "code",
   "execution_count": null,
   "metadata": {},
   "outputs": [],
   "source": []
  }
 ],
 "metadata": {
  "kernelspec": {
   "display_name": "base",
   "language": "python",
   "name": "python3"
  },
  "language_info": {
   "codemirror_mode": {
    "name": "ipython",
    "version": 3
   },
   "file_extension": ".py",
   "mimetype": "text/x-python",
   "name": "python",
   "nbconvert_exporter": "python",
   "pygments_lexer": "ipython3",
   "version": "3.9.12"
  }
 },
 "nbformat": 4,
 "nbformat_minor": 2
}
