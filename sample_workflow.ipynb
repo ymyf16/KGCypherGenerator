{
 "cells": [
  {
   "cell_type": "markdown",
   "metadata": {},
   "source": [
    "### Import necessary packages, nested dictionary, and relationships"
   ]
  },
  {
   "cell_type": "code",
   "execution_count": 1,
   "metadata": {},
   "outputs": [],
   "source": [
    "import json\n",
    "from kgpre import *\n",
    "from multiproc import *"
   ]
  },
  {
   "cell_type": "code",
   "execution_count": 2,
   "metadata": {},
   "outputs": [],
   "source": [
    "import ast\n",
    "file_path = './example/alzkb_nested_dict.txt'\n",
    "with open(file_path, 'r') as file:\n",
    "    file_content = file.read()\n",
    "alzkb_nested_dict = ast.literal_eval(file_content)"
   ]
  },
  {
   "cell_type": "code",
   "execution_count": 3,
   "metadata": {},
   "outputs": [],
   "source": [
    "# Extract relationships from schema\n",
    "with open('./example/schema.json', 'r',encoding='utf-8-sig') as file:\n",
    "    schema = json.load(file)\n",
    "alzkb_relationships = [relationship['type'] for relationship in schema[0]['relationships']]\n"
   ]
  },
  {
   "cell_type": "markdown",
   "metadata": {},
   "source": [
    "### Initialize Query Generation; EA"
   ]
  },
  {
   "cell_type": "code",
   "execution_count": 4,
   "metadata": {},
   "outputs": [
    {
     "name": "stdout",
     "output_type": "stream",
     "text": [
      "generation: 0\n"
     ]
    }
   ],
   "source": [
    "dm = DepthManager.getInstance()\n",
    "qm = QueryManager(dm=dm)\n",
    "qm.import_grouped_info(alzkb_nested_dict)  \n",
    "qm.import_relationships(alzkb_relationships)  \n",
    "\n",
    "\n",
    "ea = EvolutionaryAlgorithm(qm=qm, depth_manager=dm, population_size=100,max_depth=4, max_generation=3)\n",
    "print(\"generation:\",ea.generation)\n",
    "ea.initialize_population() "
   ]
  },
  {
   "cell_type": "markdown",
   "metadata": {},
   "source": [
    "#### Multiprocessing queries by connecting to mgconsole"
   ]
  },
  {
   "cell_type": "code",
   "execution_count": 5,
   "metadata": {},
   "outputs": [
    {
     "name": "stderr",
     "output_type": "stream",
     "text": [
      "INFO:root:Processing batch 0\n",
      "INFO:root:Processing batch 1\n",
      "INFO:root:Processing batch 2\n",
      "INFO:root:Processing batch 3\n",
      "INFO:root:Processing batch 4\n"
     ]
    },
    {
     "name": "stdout",
     "output_type": "stream",
     "text": [
      "Current Batch queried.\n",
      "Query execution failed, writing 'failed' to ./outputs/0/4.csv\n",
      "Query execution failed, writing 'failed' to ./outputs/3/3.csv\n",
      "Query execution failed, writing 'failed' to ./outputs/4/5.csv\n"
     ]
    },
    {
     "name": "stderr",
     "output_type": "stream",
     "text": [
      "INFO:root:Processing batch 5\n"
     ]
    },
    {
     "name": "stdout",
     "output_type": "stream",
     "text": [
      "Current Batch queried.\n"
     ]
    },
    {
     "name": "stderr",
     "output_type": "stream",
     "text": [
      "INFO:root:Processing batch 6\n"
     ]
    },
    {
     "name": "stdout",
     "output_type": "stream",
     "text": [
      "Current Batch queried.\n"
     ]
    },
    {
     "name": "stderr",
     "output_type": "stream",
     "text": [
      "INFO:root:Processing batch 7\n"
     ]
    },
    {
     "name": "stdout",
     "output_type": "stream",
     "text": [
      "Current Batch queried.\n"
     ]
    },
    {
     "name": "stderr",
     "output_type": "stream",
     "text": [
      "INFO:root:Processing batch 8\n"
     ]
    },
    {
     "name": "stdout",
     "output_type": "stream",
     "text": [
      "Current Batch queried.\n"
     ]
    },
    {
     "name": "stderr",
     "output_type": "stream",
     "text": [
      "INFO:root:Processing batch 9\n"
     ]
    },
    {
     "name": "stdout",
     "output_type": "stream",
     "text": [
      "Current Batch queried.\n",
      "Current Batch queried.\n",
      "Query execution failed, writing 'failed' to ./outputs/8/8.csv\n",
      "Query execution failed, writing 'failed' to ./outputs/9/2.csv\n",
      "Current Batch queried.\n",
      "Current Batch queried.\n"
     ]
    },
    {
     "name": "stderr",
     "output_type": "stream",
     "text": [
      "ERROR:root:Something's wrong with the query indexing\n",
      "ERROR:root:Something's wrong with the query indexing\n",
      "ERROR:root:Something's wrong with the query indexing\n",
      "ERROR:root:Something's wrong with the query indexing\n",
      "ERROR:root:Something's wrong with the query indexing\n",
      "ERROR:root:Something's wrong with the query indexing\n",
      "ERROR:root:Something's wrong with the query indexing\n",
      "ERROR:root:Something's wrong with the query indexing\n",
      "ERROR:root:Something's wrong with the query indexing\n",
      "ERROR:root:Something's wrong with the query indexing\n",
      "ERROR:root:Something's wrong with the query indexing\n",
      "ERROR:root:Something's wrong with the query indexing\n",
      "ERROR:root:Something's wrong with the query indexing\n",
      "ERROR:root:Something's wrong with the query indexing\n",
      "ERROR:root:Something's wrong with the query indexing\n",
      "ERROR:root:Something's wrong with the query indexing\n",
      "ERROR:root:Something's wrong with the query indexing\n",
      "ERROR:root:Something's wrong with the query indexing\n",
      "ERROR:root:Something's wrong with the query indexing\n",
      "ERROR:root:Something's wrong with the query indexing\n",
      "ERROR:root:Something's wrong with the query indexing\n",
      "ERROR:root:Something's wrong with the query indexing\n",
      "ERROR:root:Something's wrong with the query indexing\n",
      "ERROR:root:Something's wrong with the query indexing\n",
      "ERROR:root:Something's wrong with the query indexing\n",
      "ERROR:root:Something's wrong with the query indexing\n"
     ]
    },
    {
     "name": "stdout",
     "output_type": "stream",
     "text": [
      "Current Batch queried.\n",
      "Merged CSV saved as merged_results.csv\n"
     ]
    }
   ],
   "source": [
    "ea.evaluate_population()"
   ]
  },
  {
   "cell_type": "code",
   "execution_count": 44,
   "metadata": {},
   "outputs": [],
   "source": [
    "parents = ea.Selection()\n",
    "offsprings = ea.Reproduction(parents)"
   ]
  },
  {
   "cell_type": "markdown",
   "metadata": {},
   "source": [
    "offspring_list = []\n",
    "for parent1, parent2 in parent_pairs:\n",
    "    # print(\"parent:\",parent1.children[-1])\n",
    "    # print(parent2.children[-1])\n",
    "    offspring1, offspring2 = ea.one_point_crossover(parent1, parent2)\n",
    "    # print(\"offspring:\", offspring1.children[-1])\n",
    "    # print(offspring2.children[-1])\n",
    "    offspring_list.extend([offspring1, offspring2])"
   ]
  }
 ],
 "metadata": {
  "kernelspec": {
   "display_name": "base",
   "language": "python",
   "name": "python3"
  },
  "language_info": {
   "codemirror_mode": {
    "name": "ipython",
    "version": 3
   },
   "file_extension": ".py",
   "mimetype": "text/x-python",
   "name": "python",
   "nbconvert_exporter": "python",
   "pygments_lexer": "ipython3",
   "version": "3.9.12"
  }
 },
 "nbformat": 4,
 "nbformat_minor": 2
}
