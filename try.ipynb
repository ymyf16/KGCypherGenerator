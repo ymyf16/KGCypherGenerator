{
 "cells": [
  {
   "cell_type": "code",
   "execution_count": 9,
   "metadata": {},
   "outputs": [],
   "source": [
    "import parent\n",
    "import grammarinator"
   ]
  },
  {
   "cell_type": "code",
   "execution_count": 2,
   "metadata": {},
   "outputs": [
    {
     "name": "stdout",
     "output_type": "stream",
     "text": [
      "Collecting grammarinator\n",
      "  Using cached grammarinator-23.7-py3-none-any.whl.metadata (9.7 kB)\n",
      "Collecting antlerinator>=1!3.0.0 (from grammarinator)\n",
      "  Using cached antlerinator-1%213.0.0-py3-none-any.whl.metadata (7.2 kB)\n",
      "Collecting antlr4-python3-runtime==4.13.0 (from grammarinator)\n",
      "  Using cached antlr4_python3_runtime-4.13.0-py3-none-any.whl.metadata (304 bytes)\n",
      "Collecting autopep8 (from grammarinator)\n",
      "  Using cached autopep8-2.3.0-py2.py3-none-any.whl.metadata (16 kB)\n",
      "Collecting inators (from grammarinator)\n",
      "  Using cached inators-2.1.0-py3-none-any.whl.metadata (2.6 kB)\n",
      "Collecting jinja2 (from grammarinator)\n",
      "  Using cached jinja2-3.1.4-py3-none-any.whl.metadata (2.6 kB)\n",
      "Collecting setuptools (from antlerinator>=1!3.0.0->grammarinator)\n",
      "  Downloading setuptools-70.0.0-py3-none-any.whl.metadata (5.9 kB)\n",
      "Collecting pycodestyle>=2.12.0 (from autopep8->grammarinator)\n",
      "  Using cached pycodestyle-2.12.0-py2.py3-none-any.whl.metadata (4.5 kB)\n",
      "Collecting MarkupSafe>=2.0 (from jinja2->grammarinator)\n",
      "  Downloading MarkupSafe-2.1.5-cp312-cp312-macosx_10_9_universal2.whl.metadata (3.0 kB)\n",
      "Using cached grammarinator-23.7-py3-none-any.whl (81 kB)\n",
      "Using cached antlr4_python3_runtime-4.13.0-py3-none-any.whl (144 kB)\n",
      "Using cached antlerinator-1%213.0.0-py3-none-any.whl (10 kB)\n",
      "Using cached autopep8-2.3.0-py2.py3-none-any.whl (45 kB)\n",
      "Using cached inators-2.1.0-py3-none-any.whl (13 kB)\n",
      "Using cached jinja2-3.1.4-py3-none-any.whl (133 kB)\n",
      "Downloading MarkupSafe-2.1.5-cp312-cp312-macosx_10_9_universal2.whl (18 kB)\n",
      "Using cached pycodestyle-2.12.0-py2.py3-none-any.whl (31 kB)\n",
      "Downloading setuptools-70.0.0-py3-none-any.whl (863 kB)\n",
      "\u001b[2K   \u001b[90m━━━━━━━━━━━━━━━━━━━━━━━━━━━━━━━━━━━━━━━━\u001b[0m \u001b[32m863.4/863.4 kB\u001b[0m \u001b[31m1.3 MB/s\u001b[0m eta \u001b[36m0:00:00\u001b[0ma \u001b[36m0:00:01\u001b[0m\n",
      "\u001b[?25hInstalling collected packages: antlr4-python3-runtime, setuptools, pycodestyle, MarkupSafe, inators, jinja2, autopep8, antlerinator, grammarinator\n",
      "Successfully installed MarkupSafe-2.1.5 antlerinator-1!3.0.0 antlr4-python3-runtime-4.13.0 autopep8-2.3.0 grammarinator-23.7 inators-2.1.0 jinja2-3.1.4 pycodestyle-2.12.0 setuptools-70.0.0\n"
     ]
    }
   ],
   "source": [
    "! pip install grammarinator"
   ]
  },
  {
   "cell_type": "code",
   "execution_count": 4,
   "metadata": {},
   "outputs": [
    {
     "ename": "NameError",
     "evalue": "name 'depthcontrol' is not defined",
     "output_type": "error",
     "traceback": [
      "\u001b[0;31m---------------------------------------------------------------------------\u001b[0m",
      "\u001b[0;31mNameError\u001b[0m                                 Traceback (most recent call last)",
      "Cell \u001b[0;32mIn[4], line 1\u001b[0m\n\u001b[0;32m----> 1\u001b[0m \u001b[38;5;28;01mfrom\u001b[39;00m \u001b[38;5;21;01mCustomCypherGenerator\u001b[39;00m \u001b[38;5;28;01mimport\u001b[39;00m CustomCypherGenerator\n\u001b[1;32m      2\u001b[0m \u001b[38;5;28;01mfrom\u001b[39;00m \u001b[38;5;21;01mCypherGenerator\u001b[39;00m \u001b[38;5;28;01mimport\u001b[39;00m CypherGenerator\n",
      "File \u001b[0;32m~/Desktop/AI_Cedars/try_existing/cypher-query-generator/generator/CustomCypherGenerator.py:6\u001b[0m\n\u001b[1;32m      4\u001b[0m \u001b[38;5;28;01mfrom\u001b[39;00m \u001b[38;5;21;01mmath\u001b[39;00m \u001b[38;5;28;01mimport\u001b[39;00m inf\n\u001b[1;32m      5\u001b[0m \u001b[38;5;28;01mfrom\u001b[39;00m \u001b[38;5;21;01mgrammarinator\u001b[39;00m\u001b[38;5;21;01m.\u001b[39;00m\u001b[38;5;21;01mruntime\u001b[39;00m \u001b[38;5;28;01mimport\u001b[39;00m \u001b[38;5;241m*\u001b[39m\n\u001b[0;32m----> 6\u001b[0m \u001b[38;5;28;01mfrom\u001b[39;00m \u001b[38;5;21;01mCypherGenerator\u001b[39;00m \u001b[38;5;28;01mimport\u001b[39;00m CypherGenerator\n\u001b[1;32m      8\u001b[0m nodes \u001b[38;5;241m=\u001b[39m []\n\u001b[1;32m      9\u001b[0m edges \u001b[38;5;241m=\u001b[39m []\n",
      "File \u001b[0;32m~/Desktop/AI_Cedars/try_existing/cypher-query-generator/generator/CypherGenerator.py:8\u001b[0m\n\u001b[1;32m      4\u001b[0m \u001b[38;5;28;01mfrom\u001b[39;00m \u001b[38;5;21;01mmath\u001b[39;00m \u001b[38;5;28;01mimport\u001b[39;00m inf\n\u001b[1;32m      5\u001b[0m \u001b[38;5;28;01mfrom\u001b[39;00m \u001b[38;5;21;01mgrammarinator\u001b[39;00m\u001b[38;5;21;01m.\u001b[39;00m\u001b[38;5;21;01mruntime\u001b[39;00m \u001b[38;5;28;01mimport\u001b[39;00m \u001b[38;5;241m*\u001b[39m\n\u001b[0;32m----> 8\u001b[0m \u001b[38;5;28;43;01mclass\u001b[39;49;00m\u001b[43m \u001b[49m\u001b[38;5;21;43;01mCypherGenerator\u001b[39;49;00m\u001b[43m(\u001b[49m\u001b[43mGenerator\u001b[49m\u001b[43m)\u001b[49m\u001b[43m:\u001b[49m\n\u001b[1;32m     10\u001b[0m \u001b[43m    \u001b[49m\u001b[38;5;28;43;01mdef\u001b[39;49;00m\u001b[43m \u001b[49m\u001b[38;5;21;43m__init__\u001b[39;49m\u001b[43m(\u001b[49m\u001b[38;5;28;43mself\u001b[39;49m\u001b[43m,\u001b[49m\u001b[43m \u001b[49m\u001b[38;5;241;43m*\u001b[39;49m\u001b[38;5;241;43m*\u001b[39;49m\u001b[43mkwargs\u001b[49m\u001b[43m)\u001b[49m\u001b[43m:\u001b[49m\n\u001b[1;32m     11\u001b[0m \u001b[43m        \u001b[49m\u001b[38;5;28;43msuper\u001b[39;49m\u001b[43m(\u001b[49m\u001b[43m)\u001b[49m\u001b[38;5;241;43m.\u001b[39;49m\u001b[38;5;21;43m__init__\u001b[39;49m\u001b[43m(\u001b[49m\u001b[38;5;241;43m*\u001b[39;49m\u001b[38;5;241;43m*\u001b[39;49m\u001b[43mkwargs\u001b[49m\u001b[43m)\u001b[49m\n",
      "File \u001b[0;32m~/Desktop/AI_Cedars/try_existing/cypher-query-generator/generator/CypherGenerator.py:13\u001b[0m, in \u001b[0;36mCypherGenerator\u001b[0;34m()\u001b[0m\n\u001b[1;32m     10\u001b[0m \u001b[38;5;28;01mdef\u001b[39;00m \u001b[38;5;21m__init__\u001b[39m(\u001b[38;5;28mself\u001b[39m, \u001b[38;5;241m*\u001b[39m\u001b[38;5;241m*\u001b[39mkwargs):\n\u001b[1;32m     11\u001b[0m     \u001b[38;5;28msuper\u001b[39m()\u001b[38;5;241m.\u001b[39m\u001b[38;5;21m__init__\u001b[39m(\u001b[38;5;241m*\u001b[39m\u001b[38;5;241m*\u001b[39mkwargs)\n\u001b[0;32m---> 13\u001b[0m \u001b[38;5;129m@depthcontrol\u001b[39m\n\u001b[1;32m     14\u001b[0m \u001b[38;5;28;01mdef\u001b[39;00m \u001b[38;5;21mEOF\u001b[39m(\u001b[38;5;28mself\u001b[39m, parent\u001b[38;5;241m=\u001b[39m\u001b[38;5;28;01mNone\u001b[39;00m):\n\u001b[1;32m     15\u001b[0m     \u001b[38;5;28;01mpass\u001b[39;00m\n\u001b[1;32m     16\u001b[0m EOF\u001b[38;5;241m.\u001b[39mmin_depth \u001b[38;5;241m=\u001b[39m \u001b[38;5;241m0\u001b[39m\n",
      "\u001b[0;31mNameError\u001b[0m: name 'depthcontrol' is not defined"
     ]
    }
   ],
   "source": [
    "from CustomCypherGenerator import CustomCypherGenerator\n",
    "from CypherGenerator import CypherGenerator"
   ]
  },
  {
   "cell_type": "code",
   "execution_count": 6,
   "metadata": {},
   "outputs": [
    {
     "name": "stdout",
     "output_type": "stream",
     "text": [
      "\tThe farthest rule from 'oC_Cypher' is 'oC_RelTypeName' (14 steps).\n",
      "\t61 rule(s) unreachable from 'oC_Cypher': 'OPTIONAL', 'oC_InQueryCall', 'CALL', 'YIELD', 'oC_StandaloneCall', 'oC_YieldItems', 'oC_YieldItem', 'oC_Expression', 'oC_OrExpression', 'oC_XorExpression', 'XOR', 'oC_AndExpression', 'oC_NotExpression', 'NOT', 'oC_AddOrSubtractExpression', 'oC_MultiplyDivideModuloExpression', 'oC_PowerOfExpression', 'oC_UnaryAddOrSubtractExpression', 'oC_StringListNullOperatorExpression', 'oC_ListOperatorExpression', 'IN', 'oC_StringOperatorExpression', 'STARTS', 'ENDS', 'CONTAINS', 'oC_NullOperatorExpression', 'IS', 'oC_PropertyOrLabelsExpression', 'COUNT', 'ANY', 'NONE', 'SINGLE', 'oC_RelationshipsPattern', 'oC_FilterExpression', 'oC_IdInColl', 'oC_FunctionInvocation', 'oC_FunctionName', 'oC_ExplicitProcedureInvocation', 'oC_ImplicitProcedureInvocation', 'oC_ProcedureResultField', 'oC_ProcedureName', 'oC_ListComprehension', 'oC_PatternComprehension', 'oC_CaseExpression', 'CASE', 'ELSE', 'END', 'oC_CaseAlternatives', 'WHEN', 'THEN', 'oC_ReservedWord', 'CONSTRAINT', 'DO', 'FOR', 'REQUIRE', 'UNIQUE', 'MANDATORY', 'SCALAR', 'OF', 'ADD', 'DROP'\n"
     ]
    }
   ],
   "source": [
    "! grammarinator-process '/Users/yufeimeng/Desktop/AI_Cedars/try_existing/cypher-query-generator/Cypher.g4' -o '/Users/yufeimeng/Desktop/AI_Cedars/try_existing' --no-actions"
   ]
  },
  {
   "cell_type": "code",
   "execution_count": 2,
   "metadata": {},
   "outputs": [
    {
     "name": "stdout",
     "output_type": "stream",
     "text": [
      "usage: grammarinator-generate [-h] [-r NAME] [-m NAME] [-l NAME] [-t NAME]\n",
      "                              [-s NAME] [-d NUM] [-c NUM] [-w FILE]\n",
      "                              [--population DIR] [--no-generate] [--no-mutate]\n",
      "                              [--no-recombine] [--keep-trees] [-o FILE]\n",
      "                              [--stdout] [-n NUM] [--random-seed NUM]\n",
      "                              [--encoding NAME] [--encoding-errors NAME]\n",
      "                              [-j NUM] [--sys-path DIR]\n",
      "                              [--sys-recursion-limit NUM] [--log-level LEVEL]\n",
      "                              [-v] [-q] [--version]\n",
      "                              NAME\n",
      "\n",
      "Grammarinator: Generate\n",
      "\n",
      "positional arguments:\n",
      "  NAME                  reference to the generator created by grammarinator-\n",
      "                        process (in package.module.class format).\n",
      "\n",
      "options:\n",
      "  -h, --help            show this help message and exit\n",
      "  -r NAME, --rule NAME  name of the rule to start generation from (default:\n",
      "                        the parser rule set by grammarinator-process).\n",
      "  -m NAME, --model NAME\n",
      "                        reference to the decision model (in\n",
      "                        package.module.class format) (default:\n",
      "                        grammarinator.runtime.DefaultModel).\n",
      "  -l NAME, --listener NAME\n",
      "                        reference to a listener (in package.module.class\n",
      "                        format).\n",
      "  -t NAME, --transformer NAME\n",
      "                        reference to a transformer (in package.module.function\n",
      "                        format) to postprocess the generated tree (the result\n",
      "                        of these transformers will be saved into the\n",
      "                        serialized tree, e.g., variable matching).\n",
      "  -s NAME, --serializer NAME\n",
      "                        reference to a seralizer (in package.module.function\n",
      "                        format) that takes a tree and produces a string from\n",
      "                        it.\n",
      "  -d NUM, --max-depth NUM\n",
      "                        maximum recursion depth during generation (default:\n",
      "                        inf).\n",
      "  -c NUM, --cooldown NUM\n",
      "                        cool-down factor defines how much the probability of\n",
      "                        an alternative should decrease after it has been\n",
      "                        chosen (interval: (0, 1]; default: 1.000000).\n",
      "  -w FILE, --weights FILE\n",
      "                        JSON file defining custom weights for alternatives.\n",
      "  --population DIR      directory of grammarinator tree pool.\n",
      "  --no-generate         disable test generation from grammar.\n",
      "  --no-mutate           disable test generation by mutation (disabled by\n",
      "                        default if no population is given).\n",
      "  --no-recombine        disable test generation by recombination (disabled by\n",
      "                        default if no population is given).\n",
      "  --keep-trees          keep generated tests to participate in further\n",
      "                        mutations or recombinations (only if population is\n",
      "                        given).\n",
      "  -o FILE, --out FILE   output file name pattern (default: /Users/yufeimeng/De\n",
      "                        sktop/AI_Cedars/try_existing/cypher-query-\n",
      "                        generator/tests/test_%d).\n",
      "  --stdout              print test cases to stdout (alias for --out='')\n",
      "  -n NUM                number of tests to generate, 'inf' for continuous\n",
      "                        generation (default: 1).\n",
      "  --random-seed NUM     initialize random number generator with fixed seed\n",
      "                        (not set by default).\n",
      "  --encoding NAME       output file encoding (default: utf-8).\n",
      "  --encoding-errors NAME\n",
      "                        encoding error handling scheme (default: strict).\n",
      "  -j NUM, --jobs NUM    parallelization level (default: number of cpu cores\n",
      "                        (8)).\n",
      "  --sys-path DIR        add directory to the search path for Python modules\n",
      "                        (may be specified multiple times)\n",
      "  --sys-recursion-limit NUM\n",
      "                        override maximum depth of the Python interpreter stack\n",
      "                        (default: 1000)\n",
      "  --log-level LEVEL     verbosity level of diagnostic messages (TRACE, DEBUG,\n",
      "                        INFO, WARNING, ERROR, CRITICAL, DISABLE; default:\n",
      "                        INFO)\n",
      "  -v, --verbose         verbose mode (alias for --log-level DEBUG)\n",
      "  -q, --quiet           quiet mode (alias for --log-level DISABLE)\n",
      "  --version             show program's version number and exit\n",
      "\n",
      "The tool acts as a default execution harness for generators created by\n",
      "Grammarinator:Processor.\n"
     ]
    }
   ],
   "source": [
    "! grammarinator-generate --help"
   ]
  },
  {
   "cell_type": "code",
   "execution_count": 14,
   "metadata": {},
   "outputs": [
    {
     "name": "stdout",
     "output_type": "stream",
     "text": [
      "Traceback (most recent call last):\n",
      "  File \"/Users/yufeimeng/Desktop/AI_Cedars/try_existing/cypher-query-generator/.venv/bin/grammarinator-generate\", line 8, in <module>\n",
      "    sys.exit(execute())\n",
      "             ^^^^^^^^^\n",
      "  File \"/Users/yufeimeng/Desktop/AI_Cedars/try_existing/cypher-query-generator/.venv/lib/python3.12/site-packages/grammarinator/generate.py\", line 148, in execute\n",
      "    process_args(args)\n",
      "  File \"/Users/yufeimeng/Desktop/AI_Cedars/try_existing/cypher-query-generator/.venv/lib/python3.12/site-packages/grammarinator/generate.py\", line 36, in process_args\n",
      "    args.generator = import_object(args.generator)\n",
      "                     ^^^^^^^^^^^^^^^^^^^^^^^^^^^^^\n",
      "  File \"/Users/yufeimeng/Desktop/AI_Cedars/try_existing/cypher-query-generator/.venv/lib/python3.12/site-packages/inators/imp.py\", line 24, in import_object\n",
      "    return getattr(importlib.import_module('.'.join(steps[0:-1])), steps[-1])\n",
      "                   ^^^^^^^^^^^^^^^^^^^^^^^^^^^^^^^^^^^^^^^^^^^^^^\n",
      "  File \"/Library/Frameworks/Python.framework/Versions/3.12/lib/python3.12/importlib/__init__.py\", line 90, in import_module\n",
      "    return _bootstrap._gcd_import(name[level:], package, level)\n",
      "           ^^^^^^^^^^^^^^^^^^^^^^^^^^^^^^^^^^^^^^^^^^^^^^^^^^^^\n",
      "  File \"<frozen importlib._bootstrap>\", line 1381, in _gcd_import\n",
      "  File \"<frozen importlib._bootstrap>\", line 1354, in _find_and_load\n",
      "  File \"<frozen importlib._bootstrap>\", line 1318, in _find_and_load_unlocked\n",
      "ModuleNotFoundError: No module named 'parent'\n"
     ]
    }
   ],
   "source": [
    "#! grammarinator-generate --help\n",
    "! grammarinator-generate parent.CypherGenerator -d 5 -n 5 "
   ]
  },
  {
   "cell_type": "code",
   "execution_count": 9,
   "metadata": {},
   "outputs": [
    {
     "name": "stdout",
     "output_type": "stream",
     "text": [
      "Cloning into 'grammarinator'...\n",
      "remote: Enumerating objects: 2654, done.\u001b[K\n",
      "remote: Counting objects: 100% (1143/1143), done.\u001b[K\n",
      "remote: Compressing objects: 100% (384/384), done.\u001b[K\n",
      "remote: Total 2654 (delta 825), reused 1013 (delta 740), pack-reused 1511\u001b[K\n",
      "Receiving objects: 100% (2654/2654), 718.96 KiB | 3.30 MiB/s, done.\n",
      "Resolving deltas: 100% (1788/1788), done.\n"
     ]
    }
   ],
   "source": []
  },
  {
   "cell_type": "code",
   "execution_count": 16,
   "metadata": {},
   "outputs": [
    {
     "name": "stdout",
     "output_type": "stream",
     "text": [
      "\tThe farthest rule from 'oC_Cypher' is 'oC_RelTypeName' (14 steps).\n",
      "\t61 rule(s) unreachable from 'oC_Cypher': 'OPTIONAL', 'oC_InQueryCall', 'CALL', 'YIELD', 'oC_StandaloneCall', 'oC_YieldItems', 'oC_YieldItem', 'oC_Expression', 'oC_OrExpression', 'oC_XorExpression', 'XOR', 'oC_AndExpression', 'oC_NotExpression', 'NOT', 'oC_AddOrSubtractExpression', 'oC_MultiplyDivideModuloExpression', 'oC_PowerOfExpression', 'oC_UnaryAddOrSubtractExpression', 'oC_StringListNullOperatorExpression', 'oC_ListOperatorExpression', 'IN', 'oC_StringOperatorExpression', 'STARTS', 'ENDS', 'CONTAINS', 'oC_NullOperatorExpression', 'IS', 'oC_PropertyOrLabelsExpression', 'COUNT', 'ANY', 'NONE', 'SINGLE', 'oC_RelationshipsPattern', 'oC_FilterExpression', 'oC_IdInColl', 'oC_FunctionInvocation', 'oC_FunctionName', 'oC_ExplicitProcedureInvocation', 'oC_ImplicitProcedureInvocation', 'oC_ProcedureResultField', 'oC_ProcedureName', 'oC_ListComprehension', 'oC_PatternComprehension', 'oC_CaseExpression', 'CASE', 'ELSE', 'END', 'oC_CaseAlternatives', 'WHEN', 'THEN', 'oC_ReservedWord', 'CONSTRAINT', 'DO', 'FOR', 'REQUIRE', 'UNIQUE', 'MANDATORY', 'SCALAR', 'OF', 'ADD', 'DROP'\n"
     ]
    }
   ],
   "source": [
    "! grammarinator-process '/Users/yufeimeng/Desktop/AI_Cedars/try_existing/cypher-query-generator/.venv/Cypher.g4' -o '/Users/yufeimeng/Desktop/AI_Cedars/try_existing/cypher-query-generator/.venv' --no-actions"
   ]
  },
  {
   "cell_type": "code",
   "execution_count": 20,
   "metadata": {},
   "outputs": [
    {
     "name": "stdout",
     "output_type": "stream",
     "text": [
      "Traceback (most recent call last):\n",
      "  File \"/Users/yufeimeng/Desktop/AI_Cedars/try_existing/cypher-query-generator/.venv/bin/grammarinator-generate\", line 8, in <module>\n",
      "    sys.exit(execute())\n",
      "             ^^^^^^^^^\n",
      "  File \"/Users/yufeimeng/Desktop/AI_Cedars/try_existing/cypher-query-generator/.venv/lib/python3.12/site-packages/grammarinator/generate.py\", line 148, in execute\n",
      "    process_args(args)\n",
      "  File \"/Users/yufeimeng/Desktop/AI_Cedars/try_existing/cypher-query-generator/.venv/lib/python3.12/site-packages/grammarinator/generate.py\", line 36, in process_args\n",
      "    args.generator = import_object(args.generator)\n",
      "                     ^^^^^^^^^^^^^^^^^^^^^^^^^^^^^\n",
      "  File \"/Users/yufeimeng/Desktop/AI_Cedars/try_existing/cypher-query-generator/.venv/lib/python3.12/site-packages/inators/imp.py\", line 24, in import_object\n",
      "    return getattr(importlib.import_module('.'.join(steps[0:-1])), steps[-1])\n",
      "                   ^^^^^^^^^^^^^^^^^^^^^^^^^^^^^^^^^^^^^^^^^^^^^^\n",
      "  File \"/Library/Frameworks/Python.framework/Versions/3.12/lib/python3.12/importlib/__init__.py\", line 90, in import_module\n",
      "    return _bootstrap._gcd_import(name[level:], package, level)\n",
      "           ^^^^^^^^^^^^^^^^^^^^^^^^^^^^^^^^^^^^^^^^^^^^^^^^^^^^\n",
      "  File \"<frozen importlib._bootstrap>\", line 1381, in _gcd_import\n",
      "  File \"<frozen importlib._bootstrap>\", line 1354, in _find_and_load\n",
      "  File \"<frozen importlib._bootstrap>\", line 1318, in _find_and_load_unlocked\n",
      "ModuleNotFoundError: No module named 'parent'\n"
     ]
    }
   ],
   "source": [
    "! grammarinator-generate parent.CypherGenerator -d 5 -n 5 "
   ]
  },
  {
   "cell_type": "code",
   "execution_count": 25,
   "metadata": {},
   "outputs": [
    {
     "name": "stdout",
     "output_type": "stream",
     "text": [
      "Collecting importlib\n",
      "  Downloading importlib-1.0.4.zip (7.1 kB)\n",
      "  Installing build dependencies ... \u001b[?25ldone\n",
      "\u001b[?25h  Getting requirements to build wheel ... \u001b[?25ldone\n",
      "\u001b[?25h  Installing backend dependencies ... \u001b[?25ldone\n",
      "\u001b[?25h  Preparing metadata (pyproject.toml) ... \u001b[?25ldone\n",
      "\u001b[?25hBuilding wheels for collected packages: importlib\n",
      "  Building wheel for importlib (pyproject.toml) ... \u001b[?25ldone\n",
      "\u001b[?25h  Created wheel for importlib: filename=importlib-1.0.4-py3-none-any.whl size=5852 sha256=aad5e8495d81a03684e6c5cc559389fb2c9d99f3efe3f08bd8240226120938e4\n",
      "  Stored in directory: /Users/yufeimeng/Library/Caches/pip/wheels/40/41/c4/d925a53b7b7e75a65369e1b17f7bade00d7907ac5a7d74dc5f\n",
      "Successfully built importlib\n",
      "Installing collected packages: importlib\n",
      "Successfully installed importlib-1.0.4\n"
     ]
    }
   ],
   "source": [
    "! pip install importlib"
   ]
  },
  {
   "cell_type": "code",
   "execution_count": 27,
   "metadata": {},
   "outputs": [],
   "source": [
    "import generator\n",
    "import grammarinator"
   ]
  },
  {
   "cell_type": "code",
   "execution_count": 35,
   "metadata": {},
   "outputs": [
    {
     "name": "stdout",
     "output_type": "stream",
     "text": [
      "Traceback (most recent call last):\n",
      "  File \"/Users/yufeimeng/Desktop/AI_Cedars/try_existing/cypher-query-generator/.venv/bin/grammarinator-generate\", line 8, in <module>\n",
      "    sys.exit(execute())\n",
      "             ^^^^^^^^^\n",
      "  File \"/Users/yufeimeng/Desktop/AI_Cedars/try_existing/cypher-query-generator/.venv/lib/python3.12/site-packages/grammarinator/generate.py\", line 148, in execute\n",
      "    process_args(args)\n",
      "  File \"/Users/yufeimeng/Desktop/AI_Cedars/try_existing/cypher-query-generator/.venv/lib/python3.12/site-packages/grammarinator/generate.py\", line 36, in process_args\n",
      "    args.generator = import_object(args.generator)\n",
      "                     ^^^^^^^^^^^^^^^^^^^^^^^^^^^^^\n",
      "  File \"/Users/yufeimeng/Desktop/AI_Cedars/try_existing/cypher-query-generator/.venv/lib/python3.12/site-packages/inators/imp.py\", line 24, in import_object\n",
      "    return getattr(importlib.import_module('.'.join(steps[0:-1])), steps[-1])\n",
      "                   ^^^^^^^^^^^^^^^^^^^^^^^^^^^^^^^^^^^^^^^^^^^^^^\n",
      "  File \"/Library/Frameworks/Python.framework/Versions/3.12/lib/python3.12/importlib/__init__.py\", line 90, in import_module\n",
      "    return _bootstrap._gcd_import(name[level:], package, level)\n",
      "           ^^^^^^^^^^^^^^^^^^^^^^^^^^^^^^^^^^^^^^^^^^^^^^^^^^^^\n",
      "  File \"<frozen importlib._bootstrap>\", line 1381, in _gcd_import\n",
      "  File \"<frozen importlib._bootstrap>\", line 1354, in _find_and_load\n",
      "  File \"<frozen importlib._bootstrap>\", line 1318, in _find_and_load_unlocked\n",
      "ModuleNotFoundError: No module named 'generator'\n"
     ]
    }
   ],
   "source": [
    "! grammarinator-generate generator.CypherGenerator -d 5 -n 5 "
   ]
  },
  {
   "cell_type": "code",
   "execution_count": 14,
   "metadata": {},
   "outputs": [],
   "source": [
    "from generator import CypherGenerator\n"
   ]
  },
  {
   "cell_type": "code",
   "execution_count": 19,
   "metadata": {},
   "outputs": [
    {
     "name": "stdout",
     "output_type": "stream",
     "text": [
      "Traceback (most recent call last):\n",
      "  File \"/Users/yufeimeng/Desktop/AI_Cedars/try_existing/cypher-query-generator/.venv/bin/grammarinator-generate\", line 8, in <module>\n",
      "    sys.exit(execute())\n",
      "             ^^^^^^^^^\n",
      "  File \"/Users/yufeimeng/Desktop/AI_Cedars/try_existing/cypher-query-generator/.venv/lib/python3.12/site-packages/grammarinator/generate.py\", line 148, in execute\n",
      "    process_args(args)\n",
      "  File \"/Users/yufeimeng/Desktop/AI_Cedars/try_existing/cypher-query-generator/.venv/lib/python3.12/site-packages/grammarinator/generate.py\", line 36, in process_args\n",
      "    args.generator = import_object(args.generator)\n",
      "                     ^^^^^^^^^^^^^^^^^^^^^^^^^^^^^\n",
      "  File \"/Users/yufeimeng/Desktop/AI_Cedars/try_existing/cypher-query-generator/.venv/lib/python3.12/site-packages/inators/imp.py\", line 24, in import_object\n",
      "    return getattr(importlib.import_module('.'.join(steps[0:-1])), steps[-1])\n",
      "                   ^^^^^^^^^^^^^^^^^^^^^^^^^^^^^^^^^^^^^^^^^^^^^^\n",
      "  File \"/Library/Frameworks/Python.framework/Versions/3.12/lib/python3.12/importlib/__init__.py\", line 90, in import_module\n",
      "    return _bootstrap._gcd_import(name[level:], package, level)\n",
      "           ^^^^^^^^^^^^^^^^^^^^^^^^^^^^^^^^^^^^^^^^^^^^^^^^^^^^\n",
      "  File \"<frozen importlib._bootstrap>\", line 1381, in _gcd_import\n",
      "  File \"<frozen importlib._bootstrap>\", line 1354, in _find_and_load\n",
      "  File \"<frozen importlib._bootstrap>\", line 1304, in _find_and_load_unlocked\n",
      "  File \"<frozen importlib._bootstrap>\", line 488, in _call_with_frames_removed\n",
      "  File \"<frozen importlib._bootstrap>\", line 1381, in _gcd_import\n",
      "  File \"<frozen importlib._bootstrap>\", line 1354, in _find_and_load\n",
      "  File \"<frozen importlib._bootstrap>\", line 1318, in _find_and_load_unlocked\n",
      "ModuleNotFoundError: No module named 'cypher-query-generator'\n"
     ]
    }
   ],
   "source": [
    "! grammarinator-generate cypher-query-generator.generator.CypherGenerator -d 5 -n 5 "
   ]
  },
  {
   "cell_type": "code",
   "execution_count": 20,
   "metadata": {},
   "outputs": [
    {
     "name": "stdout",
     "output_type": "stream",
     "text": [
      "['/Library/Frameworks/Python.framework/Versions/3.12/lib/python312.zip', '/Library/Frameworks/Python.framework/Versions/3.12/lib/python3.12', '/Library/Frameworks/Python.framework/Versions/3.12/lib/python3.12/lib-dynload', '', '/Users/yufeimeng/Desktop/AI_Cedars/try_existing/cypher-query-generator/.venv/lib/python3.12/site-packages']\n"
     ]
    }
   ],
   "source": [
    "import sys\n",
    "print(sys.path)\n"
   ]
  },
  {
   "cell_type": "code",
   "execution_count": 21,
   "metadata": {},
   "outputs": [
    {
     "name": "stdout",
     "output_type": "stream",
     "text": [
      "\n",
      "CommandNotFoundError: Your shell has not been properly configured to use 'conda activate'.\n",
      "To initialize your shell, run\n",
      "\n",
      "    $ conda init <SHELL_NAME>\n",
      "\n",
      "Currently supported shells are:\n",
      "  - bash\n",
      "  - fish\n",
      "  - tcsh\n",
      "  - xonsh\n",
      "  - zsh\n",
      "  - powershell\n",
      "\n",
      "See 'conda init --help' for more information and options.\n",
      "\n",
      "IMPORTANT: You may need to close and restart your shell after running 'conda init'.\n",
      "\n",
      "\n"
     ]
    }
   ],
   "source": [
    "! conda activate .venv"
   ]
  },
  {
   "cell_type": "code",
   "execution_count": null,
   "metadata": {},
   "outputs": [],
   "source": []
  }
 ],
 "metadata": {
  "kernelspec": {
   "display_name": ".venv",
   "language": "python",
   "name": "python3"
  },
  "language_info": {
   "codemirror_mode": {
    "name": "ipython",
    "version": 3
   },
   "file_extension": ".py",
   "mimetype": "text/x-python",
   "name": "python",
   "nbconvert_exporter": "python",
   "pygments_lexer": "ipython3",
   "version": "3.12.0"
  }
 },
 "nbformat": 4,
 "nbformat_minor": 2
}
