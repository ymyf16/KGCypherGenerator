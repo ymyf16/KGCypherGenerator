{
 "cells": [
  {
   "cell_type": "markdown",
   "metadata": {},
   "source": [
    "### Cook labels and properties"
   ]
  },
  {
   "cell_type": "code",
   "execution_count": 288,
   "metadata": {},
   "outputs": [],
   "source": [
    "import re\n",
    "import random\n",
    "import json\n",
    "import pandas as pd\n",
    "\n",
    "# Open and load the graph schema json file\n",
    "with open('schema.json', 'r',encoding='utf-8-sig') as file:\n",
    "    schema = json.load(file)\n",
    "    \n",
    "# Extract nodes and edges from the schema\n",
    "#labels = [node['labels'][0] for node in schema[0]['nodes']]\n",
    "relationships = [relationship['type'] for relationship in schema[0]['relationships']]\n",
    "\n",
    "\n",
    "# Get detailed properties from the csv file\n",
    "common_names = pd.read_csv('memgraph-query-results-export.csv', index_col=False)\n",
    "\n",
    "def group_labels(df, label_col, name_col):\n",
    "    grouped = df.groupby(label_col)[name_col].apply(list).to_dict()\n",
    "    return grouped\n",
    "\n",
    "# Applying the function\n",
    "grouped_names = group_labels(common_names, 'label', 'commonName')\n",
    "\n",
    "#***************************************\n",
    "labels = list(grouped_names.keys())\n",
    "property_labels= [\"commonName\"] #will be generalized later"
   ]
  },
  {
   "cell_type": "markdown",
   "metadata": {},
   "source": [
    "### Building functions\n",
    "\n",
    "Things to have:\n",
    "- depthmanager class (done)\n",
    "- clause class (done)\n",
    "- node class (done)\n",
    "- add functions (done)\n"
   ]
  },
  {
   "cell_type": "code",
   "execution_count": 276,
   "metadata": {},
   "outputs": [],
   "source": [
    "#Imports\n",
    "import random\n",
    "\n",
    "# Define labels and properties\n",
    "labels = list(grouped_names.keys())\n",
    "property_labels= [\"commonName\"] #will be generalized later"
   ]
  },
  {
   "cell_type": "code",
   "execution_count": 277,
   "metadata": {},
   "outputs": [],
   "source": [
    "class DepthManager:\n",
    "    _max_depth = 5  # Default maximum depth\n",
    "    _min_depth = 3\n",
    "\n",
    "    def __init__(self):\n",
    "        self.depth = 0  # Starting depth\n",
    "\n",
    "    @classmethod\n",
    "    def set_max_depth(cls, depth):\n",
    "        if depth > cls._min_depth:\n",
    "            cls._max_depth = depth\n",
    "        else:\n",
    "            print(\"Maximum depth cannot be smaller than the min depth! \\n The default max_depth is\", cls._max_depth)\n",
    "    \n",
    "    def depth_control(self, func):\n",
    "        def wrapper(*args, **kwargs):\n",
    "            if self.depth == self._max_depth:\n",
    "                print(\"Max depth reached\")\n",
    "                return None\n",
    "            result = func(*args, **kwargs)\n",
    "            self.depth += 1  # Increment depth after function call\n",
    "            return result\n",
    "        return wrapper\n",
    "    \n",
    "    def reset_depth(self):\n",
    "        self.depth = 0\n",
    "\n",
    "class Clause():\n",
    "    def __init__(self, value, children=None):\n",
    "        self.value = value\n",
    "        self.children = children if children is not None else []\n",
    "\n",
    "    def __str__(self):\n",
    "        if not self.children:\n",
    "            return str(self.value)\n",
    "        return f\"{self.value} {' '.join(str(child) for child in self.children)}\"\n",
    "\n",
    "class Node():\n",
    "    def __init__(self, value, children=None):\n",
    "         self.value = value\n",
    "         self.children = children if children is not None else []\n",
    "\n",
    "    def __str__(self):\n",
    "        if not self.children:\n",
    "                return str(self.value)\n",
    "        if self.value == '-':  \n",
    "            return ' '.join(str(child) for child in self.children)\n",
    "        return f\"{self.value}({', '.join(str(child) for child in self.children)})\"\n",
    "\n",
    "\n",
    "\n",
    "# # Use the depth_control decorator from the manager instance\n",
    "# @DepthManager.depth_control\n",
    "# def add_node(depth):\n",
    "#         label = random.choice(labels)\n",
    "#         return Node(f\"({label.lower()}: {label})\", depth=depth)\n"
   ]
  },
  {
   "cell_type": "code",
   "execution_count": 278,
   "metadata": {},
   "outputs": [],
   "source": [
    "#Things to import / create / access\n",
    "depth_manager = DepthManager()\n",
    "current_depth = depth_manager.depth"
   ]
  },
  {
   "cell_type": "code",
   "execution_count": 279,
   "metadata": {},
   "outputs": [],
   "source": [
    "# Define labels and properties\n",
    "labels = list(grouped_names.keys())\n",
    "property_labels= [\"commonName\"]\n",
    "\n",
    "\n",
    "# @depth_manager.depth_control\n",
    "def add_node():\n",
    "    label = random.choice(labels)\n",
    "    return Node(f\"({label.lower()}: {label})\")\n",
    "\n",
    "@depth_manager.depth_control\n",
    "def add_relationship():\n",
    "    \"\"\" Randomly generate a relationship between two nodes \"\"\"\n",
    "    current_depth = depth_manager.depth\n",
    "    rel_type = random.choice(relationships)\n",
    "    if current_depth>=3 and random.random() < 0.5:\n",
    "        direction1 = \"<-\"\n",
    "        direction2 = \"-\"\n",
    "    else:\n",
    "        direction1 = \"-\" \n",
    "        direction2 = \"->\"\n",
    "    relationship = Node(f\"{direction1} [:{rel_type}] {direction2}\")\n",
    "    return Node(\"-\", [relationship])\n",
    "    # return Clause(\"-\", [relationship], depth=depth)\n",
    "\n",
    "@depth_manager.depth_control\n",
    "def add_condition():\n",
    "    node_label = random.choice(labels)\n",
    "    # label_lower = node_label.lower()\n",
    "    property_label = random.choice(property_labels)\n",
    "    possible_properties = grouped_names[node_label]\n",
    "    sample_prop_type = possible_properties[0]\n",
    "    \n",
    "    value = random.randint(20, 50) if isinstance(sample_prop_type, int) else random.choice(possible_properties)\n",
    "    operator = random.choice([\">\", \"<\", \"=\", \"<=\", \">=\"]) if isinstance(sample_prop_type, int) else '='\n",
    "    # return Node(\"WHERE\", [Node(f\"{label_lower}.{property_label} {operator} {value}\", [], depth)], depth=depth)\n",
    "    return Clause(\"WHERE\", [Clause(f\"{node_label}.{property_label} {operator} '{value}'\", [])])\n",
    "\n",
    "def add_return(k):\n",
    "    choices = random.sample(labels, k)\n",
    "    nodes = [add_node() for choice in choices if add_node()]\n",
    "    if nodes:  # Check if the list is not empty\n",
    "        return Clause(\"RETURN\", nodes)\n",
    "    return None\n",
    "\n",
    "def alternate_functions(flag):\n",
    "    if flag:\n",
    "        return add_node(), not flag\n",
    "    else:\n",
    "        return add_relationship(), not flag\n",
    "    \n",
    "\n",
    "import re\n",
    "#Trying\n",
    "def is_relationship(part):\n",
    "    \"\"\"\n",
    "    Determine if the given part of a query is a relationship based on containing \"[]\"\n",
    "    Ensures that part is a string before checking.\n",
    "    \"\"\"\n",
    "    # pattern = re.compile(r'\\[(.*?)\\]')\n",
    "    pattern = re.compile(r'(?:-\\s*\\[:.*?\\]\\s*->|<-\\s*\\[:.*?\\]\\s*-)')\n",
    "    # Ensure part is a string or bytes-like object\n",
    "    if isinstance(part, str):\n",
    "        if pattern.search(part):\n",
    "            return True\n",
    "    return False\n",
    "\n"
   ]
  },
  {
   "cell_type": "code",
   "execution_count": 280,
   "metadata": {},
   "outputs": [
    {
     "name": "stdout",
     "output_type": "stream",
     "text": [
      "WHERE DrugClass.commonName = 'Increased Coagulation Factor VIII Concentration'\n"
     ]
    }
   ],
   "source": [
    "#DEBUGGING\n",
    "\n",
    "def alternate_functions_debug(flag):\n",
    "    if flag:\n",
    "        print(\"current depth: \",depth_manager.depth)\n",
    "        print(\"added node\")\n",
    "        return add_node(), not flag\n",
    "    else:\n",
    "        print(\"current depth: \",depth_manager.depth)\n",
    "        print(\"added relationship\")\n",
    "        return add_relationship(), not flag\n",
    "\n",
    "depth_manager.reset_depth()\n",
    "test_where = add_condition()\n",
    "print(test_where)"
   ]
  },
  {
   "cell_type": "code",
   "execution_count": 281,
   "metadata": {},
   "outputs": [],
   "source": [
    "def generate_random_query():\n",
    "    depth_manager.reset_depth()\n",
    "    depth = depth_manager.depth\n",
    "    parts = []\n",
    "    flag = True  # Ensure that we start with producing nodes\n",
    "    return_num = 1 #default returns ONE random label\n",
    "    part_num = random.randint(1, depth_manager._max_depth-2)\n",
    "\n",
    "    # Keep adding nodes and relationships while depth is within limit\n",
    "    for _ in range(part_num+1):\n",
    "        part, flag = alternate_functions(flag)\n",
    "        if part is None:\n",
    "            break\n",
    "        parts.append(part)\n",
    "\n",
    "    # print(parts[-1],type(parts[-1]), is_relationship(parts[-1]), is_relationship(str(parts[-1])))\n",
    "\n",
    "    # Check if the last part is a relationship; if so, add a terminating node\n",
    "    if parts and is_relationship(str(parts[-1])): #ensure the input part is in string format\n",
    "        final_node = add_node()  # Generate a final node\n",
    "        if final_node:\n",
    "            parts.append(final_node)\n",
    "            print(\"final_node added:\", final_node)\n",
    "    \n",
    "\n",
    "    # Optionally add a WHERE clause if depth is still under max_depth\n",
    "    if depth < depth_manager._max_depth-1 and random.random() > 0.5:\n",
    "        condition = add_condition()\n",
    "        # if condition:\n",
    "        parts.append(condition)\n",
    "\n",
    "    # Add a RETURN clause if depth is still under max_depth\n",
    "    # if depth < depth_manager._max_depth:\n",
    "    ret = add_return(return_num)\n",
    "    if ret:\n",
    "        parts.append(ret)\n",
    "\n",
    "    # Create the MATCH node only if there are parts to include\n",
    "    print(\"part_num is: \", part_num)\n",
    "    return Clause(\"MATCH\", parts) if parts else None\n",
    "    # return Clause(\"MATCH\", parts) if parts else None\n"
   ]
  },
  {
   "cell_type": "code",
   "execution_count": 282,
   "metadata": {},
   "outputs": [
    {
     "name": "stdout",
     "output_type": "stream",
     "text": [
      "Maximum depth cannot be smaller than the min depth! \n",
      " The default max_depth is 5\n"
     ]
    }
   ],
   "source": [
    "depth_manager.set_max_depth(2)"
   ]
  },
  {
   "cell_type": "code",
   "execution_count": 283,
   "metadata": {},
   "outputs": [
    {
     "name": "stdout",
     "output_type": "stream",
     "text": [
      "(symptom: Symptom)\n"
     ]
    }
   ],
   "source": [
    "print(add_node())"
   ]
  },
  {
   "cell_type": "code",
   "execution_count": 284,
   "metadata": {},
   "outputs": [
    {
     "name": "stdout",
     "output_type": "stream",
     "text": [
      "final_node added: (pathway: Pathway)\n",
      "part_num is:  1\n",
      "MATCH (disease: Disease) - [:CHEMICALINCREASESEXPRESSION] -> (pathway: Pathway) WHERE Drug.commonName = 'Aluminum hydroxide' RETURN (disease: Disease)\n"
     ]
    }
   ],
   "source": [
    "depth_manager.set_max_depth(4)\n",
    "depth_manager.reset_depth()\n",
    "query = generate_random_query()\n",
    "print(query)"
   ]
  },
  {
   "cell_type": "code",
   "execution_count": 285,
   "metadata": {},
   "outputs": [
    {
     "name": "stdout",
     "output_type": "stream",
     "text": [
      "part_num is:  2\n"
     ]
    },
    {
     "data": {
      "text/plain": [
       "<__main__.Clause at 0x7f81c11a54c0>"
      ]
     },
     "execution_count": 285,
     "metadata": {},
     "output_type": "execute_result"
    }
   ],
   "source": [
    "depth_manager.reset_depth()\n",
    "generate_random_query()"
   ]
  },
  {
   "cell_type": "code",
   "execution_count": 286,
   "metadata": {},
   "outputs": [
    {
     "data": {
      "text/plain": [
       "True"
      ]
     },
     "execution_count": 286,
     "metadata": {},
     "output_type": "execute_result"
    }
   ],
   "source": [
    "#Test is_relationship\n",
    "test_str = \"- [:DRUGINCLASS] -> \"\n",
    "is_relationship(test_str)"
   ]
  },
  {
   "cell_type": "code",
   "execution_count": 287,
   "metadata": {},
   "outputs": [
    {
     "name": "stdout",
     "output_type": "stream",
     "text": [
      "final_node added: (bodypart: BodyPart)\n",
      "part_num is:  1\n",
      "MATCH (molecularfunction: MolecularFunction) - [:GENEINTERACTSWITHGENE] -> (bodypart: BodyPart) RETURN (molecularfunction: MolecularFunction) \n",
      " 1\n",
      "final_node added: (drug: Drug)\n",
      "part_num is:  3\n",
      "MATCH (cellularcomponent: CellularComponent) - [:GENEASSOCIATEDWITHCELLULARCOMPONENT] -> (biologicalprocess: BiologicalProcess) - [:GENECOVARIESWITHGENE] -> (drug: Drug) WHERE CellularComponent.commonName = 'calcineurin complex' RETURN (drugclass: DrugClass) \n",
      " 3\n",
      "final_node added: (pathway: Pathway)\n",
      "part_num is:  1\n",
      "MATCH (cellularcomponent: CellularComponent) - [:GENEASSOCIATESWITHDISEASE] -> (pathway: Pathway) RETURN (bodypart: BodyPart) \n",
      " 1\n",
      "final_node added: (pathway: Pathway)\n",
      "part_num is:  1\n",
      "MATCH (disease: Disease) - [:GENEINTERACTSWITHGENE] -> (pathway: Pathway) WHERE MolecularFunction.commonName = 'long-chain fatty acyl-CoA binding' RETURN (drug: Drug) \n",
      " 2\n",
      "final_node added: (molecularfunction: MolecularFunction)\n",
      "part_num is:  3\n",
      "MATCH (pathway: Pathway) - [:GENEINPATHWAY] -> (molecularfunction: MolecularFunction) - [:DRUGTREATSDISEASE] -> (molecularfunction: MolecularFunction) RETURN (cellularcomponent: CellularComponent) \n",
      " 2\n"
     ]
    }
   ],
   "source": [
    "# Set maximum depth dynamically\n",
    "depth_manager.set_max_depth(5)\n",
    "\n",
    "# Generate and print some random queries\n",
    "for _ in range(5):\n",
    "    depth_manager.reset_depth()\n",
    "    query = generate_random_query()\n",
    "    print(query, \"\\n\", depth_manager.depth)\n",
    "    "
   ]
  },
  {
   "cell_type": "markdown",
   "metadata": {},
   "source": [
    "### To do\n",
    "- WHERE and RETURN has to match the node called in MATCH \n",
    "- Add hops to relationship (done)\n",
    "- Add specific properties to nodes like (done)\n",
    "\n",
    "\"MATCH (wallstreet:Movie {title: 'Wall Street'})<-[:ACTED_IN]-(actor)\n",
    "\n",
    "RETURN actor.name\"\n",
    "- Make sure the current generated queries work \n",
    "- Mutation/Crossover function (see what GPT says can do; )\n"
   ]
  },
  {
   "cell_type": "code",
   "execution_count": 529,
   "metadata": {},
   "outputs": [],
   "source": [
    "# import re\n",
    "\n",
    "class Clause():\n",
    "    def __init__(self, value, children=None):\n",
    "        self.value = value\n",
    "        self.children = children if children is not None else []\n",
    "\n",
    "    def __str__(self):\n",
    "        if not self.children:\n",
    "            return str(self.value)\n",
    "        if self.value == \"RETURN\":\n",
    "            return f\"{self.value} {', '.join(str(child) for child in self.children)}\"\n",
    "        return f\"{self.value} {' '.join(str(child) for child in self.children)}\"\n",
    "    \n",
    "class Node:\n",
    "    \"\"\"\n",
    "    When called, will add connector to either nodes or relationships \n",
    "    \"\"\"\n",
    "    def __init__(self, value, children=None):\n",
    "        self.value = value\n",
    "        self.children = children if children is not None else []\n",
    "\n",
    "    def __str__(self):\n",
    "        if not self.children:\n",
    "            return str(self.value)\n",
    "        if self.value == '-':  \n",
    "            return ' '.join(str(child) for child in self.children)\n",
    "        return f\"{self.value}({', '.join(str(child) for child in self.children)})\"\n",
    "\n",
    "class QueryManager:\n",
    "    depth_manager = DepthManager()\n",
    "    def __init__(self):\n",
    "        self.nodes = []\n",
    "        self.node_labels = []\n",
    "        self.relationships = []\n",
    "        \n",
    "        # self.property_labels = []\n",
    "        self.grouped_info = {} #need to be grouped format with {'labels':[properties]...}\n",
    "        #TODO: generalize this to enable random pick of any value of any property; which means\n",
    "        #need to generalize the grouped_info dict maybe to a mega dict or mega list\n",
    "\n",
    "        self.usable_labels = set()\n",
    "\n",
    "        # self.selected_node_label = []\n",
    "        # self.selected_alias = []\n",
    "        self.selected_label_alias = {}\n",
    "        # self.selected_property_label = []\n",
    "        # self.selected_properties = []\n",
    "    \n",
    "    def import_grouped_info(self, input_group):\n",
    "        if input_group:\n",
    "            if type(input_group) is dict:\n",
    "                self.grouped_info = input_group\n",
    "                self.node_labels = list(self.grouped_info.keys())\n",
    "                print(\"loaded node_labels:\",self.node_labels)\n",
    "            else:\n",
    "                print(\"input grouped info need to be dictionary type\")\n",
    "        else:\n",
    "            print(\"input grouped info cannot be empty\")\n",
    "    \n",
    "    def import_relationships(self, input_relationships):\n",
    "        if input_relationships:\n",
    "            self.relationships = input_relationships\n",
    "        else:\n",
    "            print(\"relationships cannot be empty\")\n",
    "\n",
    "\n",
    "    def create_unique_alias(self, label):\n",
    "        \"\"\"Creates a unique alias for a node to prevent label overlap in queries.\"\"\"\n",
    "        base_alias = label.lower()\n",
    "        alias = base_alias\n",
    "        counter = 1\n",
    "        while alias in self.usable_labels:\n",
    "            alias = f\"{base_alias}{counter}\"\n",
    "            counter += 1\n",
    "        return alias\n",
    "    \n",
    "    def add_node(self):\n",
    "        \"\"\"Adds a node with random properties selected from grouped_info.\"\"\"\n",
    "        node_label = ''\n",
    "        if self.node_labels:\n",
    "            node_label = random.choice(self.node_labels) \n",
    "            # self.selected_node_label.append(node_label)\n",
    "            # print(self.selected_node_label, node_label, type(self.selected_node_label))\n",
    "\n",
    "            possible_props = self.grouped_info[node_label]\n",
    "            property_label, properties_list = random.choice(list(possible_props.items()))\n",
    "\n",
    "            alias = self.create_unique_alias(node_label)\n",
    "            # self.selected_alias.append(alias)\n",
    "\n",
    "            self.selected_label_alias[alias]=node_label\n",
    "\n",
    "            property_value = random.choice(properties_list)\n",
    "            properties_str = f\"{property_label}: '{property_value}'\" if possible_props else ''\n",
    "            node_value = f\"{node_label} {{{properties_str}}}\"\n",
    "            node = Node(f\"({alias}:{node_value})\")\n",
    "            self.nodes.append(node)\n",
    "            self.usable_labels.add(alias)  # Store label for possible RETURN clause usage\n",
    "            return node \n",
    "        print(\"No node labels available. Please import grouped info first.\")\n",
    "        return None\n",
    "\n",
    "        \n",
    "    @depth_manager.depth_control\n",
    "    def add_hop(self,hop_p=0.5):\n",
    "        \"\"\"\n",
    "        Randomly generate hops as condition to relationship based on a customizable possibility;\n",
    "        the default possibility is 0.5\n",
    "        \"\"\"\n",
    "        current_depth = depth_manager.depth\n",
    "        hop = random.randint(1,10) #TODO: see if this is reasonable\n",
    "        upper_hop = hop + random.randint(1,10)\n",
    "        exact_hop = f\"*{hop}\"\n",
    "        ceiling_hop = f\"*..{upper_hop}\"\n",
    "        floor_hop = f\"*{hop}..\"\n",
    "        interval_hop = f\"*{hop}..{upper_hop}\"\n",
    "        hop_choices = [exact_hop, ceiling_hop, floor_hop, interval_hop]\n",
    "        if random.random() > hop_p and current_depth < depth_manager._max_depth:\n",
    "            hop_choice = random.choice(hop_choices)\n",
    "            return hop_choice\n",
    "        else:\n",
    "            return None\n",
    "\n",
    "\n",
    "    @depth_manager.depth_control\n",
    "    def add_relationship(self, hop_p=0.5):\n",
    "        \"\"\" Randomly generate a relationship between two nodes \"\"\"\n",
    "        current_depth = depth_manager.depth\n",
    "        rel_type = random.choice(self.relationships)\n",
    "        if current_depth>=3 and random.random() > 0.5: \n",
    "            direction1 = \"<-\"\n",
    "            direction2 = \"-\"\n",
    "        else:\n",
    "            direction1 = \"-\" \n",
    "            direction2 = \"->\"\n",
    "        hop_result = self.add_hop(hop_p) if self.add_hop(hop_p) else ''\n",
    "        relationship = Node(f\"{direction1} [:{rel_type}{hop_result}] {direction2}\")\n",
    "        return Node(\"-\", [relationship])\n",
    "    \n",
    "\n",
    "    @depth_manager.depth_control\n",
    "    def add_condition(self, where_p=0.5):\n",
    "        \"\"\"\n",
    "        Randomly generate WHERE clause based on a customizable possibility;\n",
    "        the default possibility where_p is 0.5\n",
    "        \"\"\"\n",
    "        current_depth = depth_manager.depth\n",
    "        if random.random() > where_p and current_depth < depth_manager._max_depth:\n",
    "            # node_label = random.choice(labels)\n",
    "            # label_lower = node_label.lower()\n",
    "            # property_label = random.choice(property_labels)\n",
    "            # node_label = random.choice(self.selected_node_label)\n",
    "            # alias = random.choice\n",
    "            alias, node_label = random.choice(list(self.selected_label_alias.items()))\n",
    "            print(alias, node_label)\n",
    "\n",
    "            possible_properties = self.grouped_info[node_label]\n",
    "            if possible_properties:\n",
    "                property_label, properties_list = random.choice(list(possible_properties.items()))\n",
    "                sample_prop_type = properties_list[0]\n",
    "                value = random.randint(20, 50) if isinstance(sample_prop_type, int) else random.choice(properties_list) \n",
    "            #TODO: customize the int part\n",
    "\n",
    "                operator = random.choice([\">\", \"<\", \"=\", \"<=\", \">=\"]) if isinstance(sample_prop_type, int) else '='\n",
    "                return Clause(\"WHERE\", [Clause(f\"{alias}.{property_label} {operator} '{value}'\", [])])\n",
    "            return None\n",
    "        return None\n",
    "\n",
    "    def add_return(self, return_num=None):\n",
    "        if return_num:\n",
    "            random_k = random.randint(1,return_num)\n",
    "            # choices = random.sample(self.usable_labels, return_num)\n",
    "        usable_labels = self.get_usable_labels()\n",
    "        random_k = random.randint(1,len(usable_labels))\n",
    "        choices = random.sample(self.usable_labels, random_k)\n",
    "        if choices:  # Check if the list is not empty\n",
    "            return Clause(\"RETURN\", choices)\n",
    "        return None\n",
    "\n",
    "    # Helper functions\n",
    "    def get_usable_labels(self):\n",
    "        return list(self.usable_labels)\n",
    "    \n",
    "    def reset(self):\n",
    "        self.nodes = []\n",
    "        self.node_labels = []\n",
    "        self.grouped_info = {} \n",
    "        self.usable_labels = set()\n",
    "        # self.selected_node_label = []\n",
    "        self.selected_label_alias = {}\n",
    "    \n",
    "        \n",
    "    def is_relationship(self, part):\n",
    "        \"\"\"\n",
    "        Determine if the given part of a query is a relationship based on containing \"[]\"\n",
    "        Ensures that part is a string before checking.\n",
    "        \"\"\"\n",
    "        # pattern = re.compile(r'\\[(.*?)\\]')\n",
    "        pattern = re.compile(r'(?:-\\s*\\[:.*?\\]\\s*->|<-\\s*\\[:.*?\\]\\s*-)')\n",
    "        trying = r\"-\\s*\\[:?([A-Za-z0-9_]+)?(\\*\\d*(\\.\\.\\d*)?)?\\]\\s*[-<>]?\"\n",
    "        # Ensure part is a string or bytes-like object\n",
    "        if isinstance(part, str):\n",
    "            # if pattern.search(part):\n",
    "            if re.search(trying, part):\n",
    "                return True\n",
    "        return False\n",
    "\n",
    "    \n",
    "    # Integrated function\n",
    "    def generate_query(self, flag=True, return_num=None, part_num=None, hop_p=0.5, where_p=0.5):\n",
    "        \"\"\"\n",
    "        Generate cypher query with random parts; \n",
    "        part_num is by default randomly set, but can also be customized. \n",
    "        \"\"\"\n",
    "        def alternate_functions(flag):\n",
    "            if flag:\n",
    "                return self.add_node(), not flag\n",
    "            else:\n",
    "                return self.add_relationship(hop_p), not flag\n",
    "            \n",
    "        depth = depth_manager.depth\n",
    "        parts = []\n",
    "        #flag = True  # Ensure that we start with producing nodes\n",
    "        #return_num = 1 #default returns ONE random label\n",
    "        if part_num is None:\n",
    "            part_num = random.randint(1, depth_manager._max_depth-2)\n",
    "\n",
    "        # Keep adding nodes and relationships while depth is within limit\n",
    "        for _ in range(part_num+1):\n",
    "            part, flag = alternate_functions(flag)\n",
    "            if part is None:\n",
    "                break\n",
    "            parts.append(part)\n",
    "        # Check if the last part is a relationship; if so, add a terminating node\n",
    "        if parts and self.is_relationship(str(parts[-1])): #ensure the input part is in string format\n",
    "            final_node = self.add_node()  # Generate a final node if previously ended with relationship\n",
    "            if final_node:\n",
    "                parts.append(final_node)\n",
    "                print(\"final_node added:\", final_node)\n",
    "\n",
    "        # Optionally add a WHERE clause if depth is still under max_depth\n",
    "        # if depth < depth_manager._max_depth-1:\n",
    "        condition = self.add_condition(where_p)\n",
    "        if condition:\n",
    "            parts.append(condition)\n",
    "\n",
    "        # Add RETURN clause \n",
    "        ret = self.add_return(return_num)\n",
    "        if ret:\n",
    "            parts.append(ret)\n",
    "        \n",
    "        #reset all paras before a new generation\n",
    "        self.reset()\n",
    "        depth_manager.reset_depth()\n",
    "\n",
    "        # Create the MATCH node only if there are parts to include\n",
    "        print(\"part_num is: \", part_num)\n",
    "        return Clause(\"MATCH\", parts) if parts else None\n",
    "\n",
    "        \n",
    "        \n"
   ]
  },
  {
   "cell_type": "code",
   "execution_count": 401,
   "metadata": {},
   "outputs": [
    {
     "name": "stdout",
     "output_type": "stream",
     "text": [
      "Match found in: - [:GENECOVARIESWITHGENE*4..] ->\n",
      "Match found in: - [:GENECOVARIESWITHGENE] ->\n",
      "Match found in: - [*3..] -\n",
      "Match found in: - [:GENEINTERACTSWITHGENE] ->\n"
     ]
    }
   ],
   "source": [
    "import re\n",
    "\n",
    "regex = r\"-\\s*\\[:?([A-Za-z0-9_]+)?(\\*\\d*(\\.\\.\\d*)?)?\\]\\s*[-<>]?\"\n",
    "tests = [\n",
    "    \"- [:GENECOVARIESWITHGENE*4..] ->\",\n",
    "    \"- [:GENECOVARIESWITHGENE] ->\",\n",
    "    \"- [*3..] -\",\n",
    "    \"- [:GENEINTERACTSWITHGENE] ->\"\n",
    "]\n",
    "\n",
    "for test in tests:\n",
    "    if re.search(regex, test):\n",
    "        print(f\"Match found in: {test}\")\n",
    "    else:\n",
    "        print(f\"No match found in: {test}\")\n"
   ]
  },
  {
   "cell_type": "code",
   "execution_count": 524,
   "metadata": {},
   "outputs": [
    {
     "data": {
      "text/plain": [
       "dict"
      ]
     },
     "execution_count": 524,
     "metadata": {},
     "output_type": "execute_result"
    }
   ],
   "source": [
    "test_dict = {\n",
    "    'BiologicalProcess': {\n",
    "        'regulation_labels': \n",
    "            'regulation of nervous system development',\n",
    "\n",
    "        'development_labels': [\n",
    "            'tube morphogenesis',\n",
    "            'organ development'\n",
    "        ]\n",
    "    },\n",
    "    'CellComponent': {\n",
    "        'structure_labels': [\n",
    "            'mitochondrial membrane',\n",
    "            'cell cortex'\n",
    "        ],\n",
    "        'function_labels': [\n",
    "            'protein binding',\n",
    "            'ion channel activity'\n",
    "        ]\n",
    "    }\n",
    "}\n",
    "type(test_dict)\n"
   ]
  },
  {
   "cell_type": "code",
   "execution_count": 526,
   "metadata": {},
   "outputs": [
    {
     "name": "stdout",
     "output_type": "stream",
     "text": [
      "development_labels \n",
      " ['tube morphogenesis', 'organ development'] <class 'str'> <class 'list'>\n"
     ]
    }
   ],
   "source": [
    "test_dict.keys()\n",
    "\n",
    "key, value = random.choice(list(test_dict['BiologicalProcess'].items()))\n",
    "print(key,'\\n',value, type(key), type(value))"
   ]
  },
  {
   "cell_type": "markdown",
   "metadata": {},
   "source": [
    "### Create alzkb nested dictionary"
   ]
  },
  {
   "cell_type": "code",
   "execution_count": 494,
   "metadata": {},
   "outputs": [
    {
     "data": {
      "text/plain": [
       "dict_keys(['commonName', 'geneSymbol'])"
      ]
     },
     "execution_count": 494,
     "metadata": {},
     "output_type": "execute_result"
    }
   ],
   "source": [
    "# type(grouped_names)\n",
    "# grouped_names.keys()\n",
    "# list(grouped_names.values())[0]\n",
    "\n",
    "geneSymbol_csv = pd.read_csv('geneSymbol.csv', index_col=False)\n",
    "# type(geneSymbol_csv)\n",
    "# type(geneSymbol_csv['g.geneSymbol'])\n",
    "\n",
    "geneSymbol = list(geneSymbol_csv['g.geneSymbol'])\n",
    "# geneSymbol\n",
    "\n",
    "geneSymbol_sub_dict = {}\n",
    "geneSymbol_sub_dict['geneSymbol'] = geneSymbol\n",
    "\n",
    "\n",
    "alzkb_nested_dict = {}\n",
    "for key in grouped_names.keys():\n",
    "    sub_dict = {}\n",
    "    if key == 'Gene':\n",
    "        sub_dict['commonName']= grouped_names[key]\n",
    "        sub_dict['geneSymbol']= geneSymbol\n",
    "    else:\n",
    "        sub_dict['commonName']= grouped_names[key]\n",
    "    alzkb_nested_dict[key] = sub_dict\n",
    "\n",
    "# alzkb_nested_dict['Gene'].keys()\n",
    "\n"
   ]
  },
  {
   "cell_type": "code",
   "execution_count": 531,
   "metadata": {},
   "outputs": [
    {
     "name": "stdout",
     "output_type": "stream",
     "text": [
      "loaded node_labels: ['BiologicalProcess', 'BodyPart', 'CellularComponent', 'Disease', 'Drug', 'DrugClass', 'Gene', 'MolecularFunction', 'Pathway', 'Symptom']\n",
      "part_num is:  8\n",
      "MATCH (molecularfunction:MolecularFunction {commonName: 'lysophosphatidic acid receptor activity'}) - [:CHEMICALINCREASESEXPRESSION] -> (gene:Gene {geneSymbol: 'LOC105376419'}) - [:GENEREGULATESGENENone] -> (disease:Disease {commonName: 'Alzheimer Disease, Early Onset'}) - [:GENEHASMOLECULARFUNCTIONNone] -> (biologicalprocess:BiologicalProcess {commonName: 'regulation of caveolin-mediated endocytosis'}) - [:DISEASEASSOCIATESWITHDISEASE] -> (pathway:Pathway {commonName: 'MFAP5-mediated ovarian cancer cell motility and invasiveness'}) RETURN pathway, molecularfunction, biologicalprocess\n",
      "loaded node_labels: ['BiologicalProcess', 'BodyPart', 'CellularComponent', 'Disease', 'Drug', 'DrugClass', 'Gene', 'MolecularFunction', 'Pathway', 'Symptom']\n",
      "disease Disease\n",
      "part_num is:  4\n",
      "MATCH (pathway:Pathway {commonName: 'inhibition of huntingtons disease neurodegeneration by histone deacetylase inhibitors'}) - [:DISEASEASSOCIATESWITHDISEASE] -> (disease:Disease {commonName: 'Alzheimer Disease, Early Onset'}) - [:BODYPARTUNDEREXPRESSESGENE] -> (disease1:Disease {commonName: 'Familial Alzheimer Disease (FAD)'}) WHERE disease.commonName = 'Alzheimer Disease, Familial, 3, with Spastic Paraparesis and Unusual Plaques' RETURN pathway\n",
      "loaded node_labels: ['BiologicalProcess', 'BodyPart', 'CellularComponent', 'Disease', 'Drug', 'DrugClass', 'Gene', 'MolecularFunction', 'Pathway', 'Symptom']\n",
      "part_num is:  8\n",
      "MATCH (disease:Disease {commonName: 'Alzheimer Disease, Early Onset'}) - [:GENEASSOCIATESWITHDISEASE*1..8] -> (drug:Drug {commonName: '3-bromo-5-phenyl-N-(pyridin-4-ylmethyl)pyrazolo[1,5-a]pyrimidin-7-amine'}) - [:CHEMICALBINDSGENE*2..10] -> (disease1:Disease {commonName: 'Alzheimer's Disease'}) - [:CHEMICALDECREASESEXPRESSION] -> (drugclass:DrugClass {commonName: 'Histamine H2 Receptor Antagonists'}) - [:SYMPTOMMANIFESTATIONOFDISEASE] -> (bodypart:BodyPart {commonName: 'lip'}) RETURN drugclass, bodypart, disease, disease1\n",
      "loaded node_labels: ['BiologicalProcess', 'BodyPart', 'CellularComponent', 'Disease', 'Drug', 'DrugClass', 'Gene', 'MolecularFunction', 'Pathway', 'Symptom']\n",
      "final_node added: (symptom:Symptom {commonName: 'Jaundice'})\n",
      "part_num is:  5\n",
      "MATCH (biologicalprocess:BiologicalProcess {commonName: 'positive regulation of sodium ion transmembrane transport'}) - [:CHEMICALBINDSGENE] -> (pathway:Pathway {commonName: 'Formation of ATP by chemiosmotic coupling'}) - [:DISEASEASSOCIATESWITHDISEASENone] -> (drug:Drug {commonName: 'Covax-19™'}) - [:BODYPARTUNDEREXPRESSESGENE] -> (symptom:Symptom {commonName: 'Jaundice'}) RETURN pathway, symptom\n",
      "loaded node_labels: ['BiologicalProcess', 'BodyPart', 'CellularComponent', 'Disease', 'Drug', 'DrugClass', 'Gene', 'MolecularFunction', 'Pathway', 'Symptom']\n",
      "final_node added: (molecularfunction:MolecularFunction {commonName: 'collagen binding'})\n",
      "disease Disease\n",
      "part_num is:  1\n",
      "MATCH (disease:Disease {commonName: 'Alzheimer Disease 14'}) - [:GENEASSOCIATESWITHDISEASE*7..17] -> (molecularfunction:MolecularFunction {commonName: 'collagen binding'}) WHERE disease.commonName = 'Lewy Body Variant of Alzheimer Disease' RETURN disease, molecularfunction\n"
     ]
    },
    {
     "name": "stderr",
     "output_type": "stream",
     "text": [
      "/var/folders/hx/mhvsgnnd2s3_cc4f_0smyv800000gn/T/ipykernel_6094/1874351767.py:179: DeprecationWarning: Sampling from a set deprecated\n",
      "since Python 3.9 and will be removed in a subsequent version.\n",
      "  choices = random.sample(self.usable_labels, random_k)\n"
     ]
    }
   ],
   "source": [
    "# Test if alzkb one works\n",
    "qm = QueryManager()\n",
    "for _ in range(5):\n",
    "    qm.reset()\n",
    "    qm.import_grouped_info(alzkb_nested_dict)\n",
    "    qm.import_relationships(relationships)\n",
    "    depth_manager.set_max_depth(10)\n",
    "    depth_manager.reset_depth()\n",
    "    print(qm.generate_query())"
   ]
  }
 ],
 "metadata": {
  "kernelspec": {
   "display_name": "base",
   "language": "python",
   "name": "python3"
  },
  "language_info": {
   "codemirror_mode": {
    "name": "ipython",
    "version": 3
   },
   "file_extension": ".py",
   "mimetype": "text/x-python",
   "name": "python",
   "nbconvert_exporter": "python",
   "pygments_lexer": "ipython3",
   "version": "3.9.12"
  }
 },
 "nbformat": 4,
 "nbformat_minor": 2
}
