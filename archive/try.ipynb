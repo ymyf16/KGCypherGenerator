{
 "cells": [
  {
   "cell_type": "markdown",
   "metadata": {},
   "source": [
    "### Next steps\n",
    "- make sure the bad_commands are complete (as for now ok)\n",
    "- get right nodes, edges, properties from alzkb (done)\n",
    "- write a function to output filtered, updated queries into a dataframe/csv (done)\n",
    "- write a function to quest neo4j as second filter\n",
    "- Try with different depth to see after filter + query, what's the filter rate for each depth range"
   ]
  },
  {
   "cell_type": "markdown",
   "metadata": {},
   "source": [
    "### Import necessary packages; define customized nodes, relationships, properties"
   ]
  },
  {
   "cell_type": "code",
   "execution_count": 58,
   "metadata": {},
   "outputs": [],
   "source": [
    "import re\n",
    "import random\n",
    "import json\n",
    "\n",
    "# Open and load the graph schema json file\n",
    "with open('schema.json', 'r',encoding='utf-8-sig') as file:\n",
    "    schema = json.load(file)\n",
    "    \n",
    "# Extract nodes and edges from the schema\n",
    "nodes = [node['labels'][0] for node in schema[0]['nodes']]\n",
    "edges = [relationship['type'] for relationship in schema[0]['relationships']]\n",
    "\n",
    "# Example input\n",
    "relationships = ['changerel1', 'changerel2', 'changerel3']\n",
    "properties = ['changeprop1','changeprop2','changeprop3']\n",
    "property_dict = {'GENEINPATHWAY':'geneinpathwayprop',\n",
    "                 'BiologicalProcess': ['bioprocessprop1', 'bioprocessprop2'],\n",
    "                 'Gene':['geneprop1','geneprop2']}\n",
    "bad_commands = ['CREATE','DELETE','MERGE','REMOVE','SET','FINISH','FOREACH','LOAD CSV','SKIP',\n",
    "                 'LIT\\d+'] #Need to double check to see if this is complete\n",
    "#'UNWIND'"
   ]
  },
  {
   "cell_type": "code",
   "execution_count": 59,
   "metadata": {},
   "outputs": [
    {
     "data": {
      "text/plain": [
       "{'Gene': ['typeOfGene',\n",
       "  'commonName',\n",
       "  'xrefOMIM',\n",
       "  'xrefHGNC',\n",
       "  'xrefEnsembl',\n",
       "  'geneSymbol',\n",
       "  'uri',\n",
       "  'xrefNcbiGene'],\n",
       " 'DrugClass': ['commonName', 'xrefNciThesaurus', 'uri'],\n",
       " 'Drug': ['commonName', 'xrefDrugbank', 'xrefCasRN', 'uri'],\n",
       " 'Disease': ['commonName', 'xrefUmlsCUI', 'xrefDiseaseOntology', 'uri'],\n",
       " 'Datatype': ['uri'],\n",
       " 'Pathway': ['commonName', 'sourceDatabase', 'pathwayId', 'uri'],\n",
       " 'BiologicalProcess': ['commonName', 'xrefGeneOntology', 'uri'],\n",
       " 'MolecularFunction': ['commonName', 'xrefGeneOntology', 'uri'],\n",
       " 'CellularComponent': ['commonName', 'xrefGeneOntology', 'uri'],\n",
       " 'Symptom': ['commonName', 'xrefMeSH', 'uri'],\n",
       " 'BodyPart': ['commonName', 'uri', 'xrefUberon']}"
      ]
     },
     "execution_count": 59,
     "metadata": {},
     "output_type": "execute_result"
    }
   ],
   "source": [
    "#def load_node_properties( !!can do this in the future\n",
    "\n",
    "#load properties for each type to form a dictionary\n",
    "node_properties = {}\n",
    "\n",
    "#load shcema_properties to process and generate properties dictionary\n",
    "with open('schema_properties.json', 'r',encoding='utf-8-sig') as file:\n",
    "    schema_props = json.load(file)\n",
    "\n",
    "label = ''\n",
    "for i in range(len(schema_props)):\n",
    "    #print(i)\n",
    "    label = ''\n",
    "    #print(schema_props[i])\n",
    "    current = schema_props[i]\n",
    "    label = current['label']\n",
    "    props = current['sample_node']['properties'].keys()\n",
    "    props = list(props)\n",
    "    node_properties[label] = props\n",
    "\n",
    "node_properties\n",
    "        "
   ]
  },
  {
   "cell_type": "code",
   "execution_count": 60,
   "metadata": {},
   "outputs": [],
   "source": [
    "# For Alzkb practical use, just keep typeOfGene and commonName as properties\n",
    "useful_properties = {'Gene': ['typeOfGene',\n",
    "  'commonName'],\n",
    " 'DrugClass': ['commonName'],\n",
    " 'Drug': ['commonName'],\n",
    " 'Disease': ['commonName'],\n",
    " #'Datatype': '',\n",
    " 'Pathway': ['commonName'],\n",
    " 'BiologicalProcess': ['commonName'],\n",
    " 'MolecularFunction': ['commonName'],\n",
    " 'CellularComponent': ['commonName'],\n",
    " 'Symptom': ['commonName'],\n",
    " 'BodyPart': ['commonName']}\n"
   ]
  },
  {
   "cell_type": "markdown",
   "metadata": {},
   "source": [
    "### Define first filter function to filter out queries with modification functions"
   ]
  },
  {
   "cell_type": "code",
   "execution_count": 61,
   "metadata": {},
   "outputs": [],
   "source": [
    "def filter(query, unwanted_commands):\n",
    "    \"\"\"\n",
    "    Filter out queries that contain modification and/or other unwanted commands\n",
    "    \"\"\"\n",
    "    pattern = r\"\\b(\" + \"|\".join(unwanted_commands) + r\")\\b\"\n",
    "    \n",
    "    # Use re.search to find any of the unwanted commands in the query\n",
    "    if re.search(pattern, query, re.IGNORECASE):\n",
    "        return True  # Unwanted command found, return True\n",
    "    else:\n",
    "        return False  # No unwanted command found, return False\n",
    "\n"
   ]
  },
  {
   "cell_type": "markdown",
   "metadata": {},
   "source": [
    "### Define replacement functions to convert queries"
   ]
  },
  {
   "cell_type": "code",
   "execution_count": 62,
   "metadata": {},
   "outputs": [],
   "source": [
    "def replace_properties(query, properties_dict):\n",
    "    \"\"\"\n",
    "    Replace class properties in the content with random properties from a provided dictionary.\n",
    "    If no matching class name is found in the dictionary, delete the \".prop\".\n",
    "\n",
    "    Args:\n",
    "    content (str): The original content string containing Cypher-like queries.\n",
    "    properties_dict (dict): A dictionary mapping class names to lists of new properties.\n",
    "\n",
    "    Returns:\n",
    "    str: The content with replaced properties.\n",
    "    \"\"\"\n",
    "    def replacement_function(match):\n",
    "        class_name = match.group(1)  # The class name from the regex match\n",
    "        if class_name in properties_dict and properties_dict[class_name]:\n",
    "            # Select a random new property from the list for the matched class\n",
    "            random_property = random.choice(properties_dict[class_name])\n",
    "            return f\"{class_name}.{random_property}\"\n",
    "        else:\n",
    "            # Also remove the .prop if no matches found\n",
    "            return class_name\n",
    "\n",
    "    # Pattern to find 'ClassName.propX' where ClassName is any of the keys in the dictionary\n",
    "    # We capture the class name and the propX part to allow precise replacement\n",
    "    pattern = rf\"(\\b{'|'.join(properties_dict.keys())})\\.prop\\d+\"\n",
    "    pattern_general = rf\"(\\w+)\\.prop\\d+\"\n",
    "\n",
    "\n",
    "    def conditional_replacement(match):\n",
    "        full_match = match.group(0)\n",
    "        class_name = match.group(1)\n",
    "\n",
    "        # Check if the class name matches pattern1 (is in useful_properties)\n",
    "        if re.fullmatch(pattern, full_match):\n",
    "            # If it matches pattern1, return the match unchanged\n",
    "            return full_match\n",
    "        else:\n",
    "            # If it does not match pattern1, remove '.propX'\n",
    "            return class_name\n",
    "\n",
    "    # Remove .prop from labels without properties, then update to customized properties for other labels\n",
    "    removed_content = re.sub(pattern_general, conditional_replacement, query)\n",
    "    updated_content = re.sub(pattern, replacement_function, removed_content)\n",
    "\n",
    "    return updated_content\n",
    "    \n",
    "\n",
    "def replace_query(query, cust_rels, cust_props):\n",
    "    # Function to replace 'reltype' with a random relationship\n",
    "    def replace_reltype(match):\n",
    "        return random.choice(cust_rels)\n",
    "    # Replace each 'reltype' occurrence with a different random relationship\n",
    "    query = re.sub(r\"reltype\\d+\", replace_reltype, query)\n",
    "    # Replace each 'prop' occurrence with a different random property\n",
    "    query = replace_properties(query,cust_props)\n",
    "    return query\n"
   ]
  },
  {
   "cell_type": "markdown",
   "metadata": {},
   "source": [
    "#### Sample Replacement and Update"
   ]
  },
  {
   "cell_type": "code",
   "execution_count": 63,
   "metadata": {},
   "outputs": [
    {
     "name": "stdout",
     "output_type": "stream",
     "text": [
      " MERGE (:label8{}) SET BODYPARTOVEREXPRESSESGENE.prop6 = GENEASSOCIATESWITHDISEASE MERGE path_0 = (node_6{})-[:reltype5]->() MERGE path_0 = () ; \n",
      " MERGE (:label8{}) SET BODYPARTOVEREXPRESSESGENE = GENEASSOCIATESWITHDISEASE MERGE path_0 = (node_6{})-[:DISEASELOCALIZESTOANATOMY]->() MERGE path_0 = () ; \n"
     ]
    }
   ],
   "source": [
    "eg_file_path = './tests/test_5'\n",
    "with open(eg_file_path, 'r') as file:\n",
    "    content_5 = file.read()\n",
    "    print(content_5)\n",
    "print(replace_query(content_5,edges, useful_properties))"
   ]
  },
  {
   "cell_type": "code",
   "execution_count": 64,
   "metadata": {},
   "outputs": [
    {
     "name": "stdout",
     "output_type": "stream",
     "text": [
      " MERGE (:label8{}) SET BODYPARTOVEREXPRESSESGENE.prop6 = GENEASSOCIATESWITHDISEASE MERGE path_0 = (node_6{})-[:reltype5]->() MERGE path_0 = () ; \n",
      " MERGE (:label8{}) SET BODYPARTOVEREXPRESSESGENE.prop6 = GENEASSOCIATESWITHDISEASE MERGE path_0 = (node_6{})-[:reltype5]->() MERGE path_0 = () ; \n",
      " MERGE (:label8{}) SET repl = GENEASSOCIATESWITHDISEASE MERGE path_0 = (node_6{})-[:reltype5]->() MERGE path_0 = () ; \n",
      "Matches for pattern2 but not pattern1: {'BODYPARTOVEREXPRESSESGENE'}\n"
     ]
    }
   ],
   "source": [
    "#Test\n",
    "pattern = rf\"(\\b{'|'.join(useful_properties.keys())})\\.prop\\d+\"\n",
    "pattern2 = rf\"(\\w+)\\.prop\\d+\"\n",
    "print(content_5)\n",
    "sub = re.sub(pattern, \"repl\", content_5)\n",
    "print (sub)\n",
    "sub2 = re.sub(pattern2, \"repl\", content_5)\n",
    "print (sub2)\n",
    "\n",
    "matches_pattern1 = set(re.findall(pattern, content_5))\n",
    "matches_pattern2 = set(re.findall(pattern2, content_5))\n",
    "\n",
    "# Subtract matches of pattern1 from matches of pattern2\n",
    "unique_pattern2_matches = matches_pattern2 - matches_pattern1\n",
    "\n",
    "# Print the unique matches to pattern2\n",
    "print(\"Matches for pattern2 but not pattern1:\", unique_pattern2_matches)"
   ]
  },
  {
   "cell_type": "markdown",
   "metadata": {},
   "source": [
    "### Automate & Process all files"
   ]
  },
  {
   "cell_type": "code",
   "execution_count": 65,
   "metadata": {},
   "outputs": [
    {
     "data": {
      "text/plain": [
       "[' UNWIND [0, 9] AS unwind_var RETURN DISTINCT * ORDER BY DRUGINCLASS ASC LIMIT 92 ; ',\n",
       " ' MATCH ()-[]->()<-->(), ({})<-[]-({})<-->({})-[]-({})<-->({}), path_0 = (), path_0 = () WHERE Gene.typeOfGene <> TRUE AND [ ] > FALSE AND DrugClass.commonName < FALSE AND CHEMICALBINDSGENE <> NULL RETURN DISTINCT GENEASSOCIATEDWITHCELLULARCOMPONENT ; ',\n",
       " ' MATCH path_0 = ()<-[*..]-({}), (), path_1 = () WHERE 3 <> [ ] AND [ ] < NULL RETURN DRUGTREATSDISEASE ORDER BY NULL LIMIT 7 ',\n",
       " ' RETURN DISTINCT CellularComponent ORDER BY GENEHASMOLECULARFUNCTION LIMIT 0 ',\n",
       " ' UNWIND [0, 9, 2] AS unwind_var  WITH DISTINCT Drug  var, GENEREGULATESGENE  var ORDER BY CellularComponent ASCENDING LIMIT 5 WHERE .9015 > .0 UNWIND [0] AS unwind_var UNWIND [0] AS unwind_var RETURN DISTINCT * , NULL  var , NULL , TRUE ORDER BY NULL ASCENDING ; ',\n",
       " ' MATCH path_0 = ({})--() WHERE Gene.commonName < FALSE UNWIND [0, 8] AS unwind_var RETURN DISTINCT * ; ',\n",
       " ' UNWIND [0] AS unwind_var RETURN * ORDER BY Drug.commonName, GENEINTERACTSWITHGENE ASCENDING, GENECOVARIESWITHGENE, GENEHASMOLECULARFUNCTION LIMIT 0 ',\n",
       " ' RETURN DISTINCT BiologicalProcess.commonName  var LIMIT 251 ; ',\n",
       " ' MATCH path_0 = ()-->(), path_0 = () WHERE GENEHASMOLECULARFUNCTION >= TRUE AND FALSE <> NULL RETURN * ORDER BY DrugClass DESCENDING, CellularComponent LIMIT 860 ; ',\n",
       " ' MATCH path_0 = ({})-[]-(), path_0 = ()-[*]-({})<-[*]->({})-->()-->({})-[*]->({}), ({})<-[]->()-[]->() RETURN * , BiologicalProcess.commonName ',\n",
       " ' MATCH ({})<-[]->(), ({}), ()-[*]->({})-[]-({}), path_0 = (), ()--({})<--() WHERE DrugClass.commonName > [ ] RETURN * ORDER BY GENEPARTICIPATESINBIOLOGICALPROCESS, GENEINPATHWAY, GENEHASMOLECULARFUNCTION ASCENDING ; ',\n",
       " ' RETURN DISTINCT * , BodyPart.commonName , NULL  var , BODYPARTOVEREXPRESSESGENE  var , DRUGTREATSDISEASE  var ',\n",
       " ' RETURN DISTINCT * ORDER BY BiologicalProcess ASCENDING, DrugClass ',\n",
       " ' UNWIND [0, 1, 4] AS unwind_var RETURN Gene.commonName ORDER BY SYMPTOMMANIFESTATIONOFDISEASE LIMIT 0 ; ']"
      ]
     },
     "execution_count": 65,
     "metadata": {},
     "output_type": "execute_result"
    }
   ],
   "source": [
    "\"\"\"\n",
    "Read each generated query file with primary filtering and replacement.\n",
    "Output: updated_query filtered and replaced with customized nodes/edges/properties\n",
    "\"\"\"\n",
    "import os\n",
    "#import pandas as pd\n",
    "\n",
    "filtered_query = []\n",
    "updated_query = []\n",
    "\n",
    "\n",
    "# Set the path to the directory containing the files\n",
    "tests_path = './tests'\n",
    "\n",
    "# Loop through each file in the directory\n",
    "for filename in os.listdir(tests_path):\n",
    "    # Check if the filename follows the expected pattern\n",
    "    if filename.startswith('test_'):\n",
    "        # Create the full path to the file\n",
    "        file_path = os.path.join(tests_path, filename)\n",
    "        #print(os.path.isfile(file_path))\n",
    "        \n",
    "    # Open and read the file\n",
    "    with open(file_path, 'r') as file:\n",
    "        current_query = file.read()\n",
    "        # print(content, filter(content,bad_commands))\n",
    "        # print(\"\\n---\\n\")\n",
    "        if filter(current_query,bad_commands)==False: #when the query doesn't contain unwanted commands\n",
    "            filtered_query += [current_query]\n",
    "            \n",
    "#filtered_query_data = pd.concat(filtered_query)\n",
    "#print(filtered_query)\n",
    "\n",
    "\n",
    "for query in filtered_query:\n",
    "    updated_query += [replace_query(query, edges, useful_properties)]\n",
    "updated_query"
   ]
  },
  {
   "cell_type": "markdown",
   "metadata": {},
   "source": [
    "### Output final filtered queries"
   ]
  },
  {
   "cell_type": "code",
   "execution_count": 66,
   "metadata": {},
   "outputs": [],
   "source": [
    "# Will add second filter after Cypher works\n",
    "import pandas as pd\n",
    "\n",
    "final = pd.DataFrame(updated_query)\n",
    "final\n",
    "final.to_csv('workable_queries.csv',header=False, index=False)"
   ]
  },
  {
   "cell_type": "markdown",
   "metadata": {},
   "source": [
    "### TODO: Second filter through Cypher Memgraph"
   ]
  },
  {
   "cell_type": "code",
   "execution_count": 67,
   "metadata": {},
   "outputs": [],
   "source": [
    "import pandas as pd\n",
    "import numpy as np\n",
    "from gqlalchemy import Memgraph\n",
    "from gqlalchemy import match\n",
    "from gqlalchemy.query_builders.memgraph_query_builder import Operator"
   ]
  },
  {
   "cell_type": "code",
   "execution_count": 68,
   "metadata": {},
   "outputs": [],
   "source": [
    "# Make a connection to the database\n",
    "#memgraph = Memgraph(host='44.231.174.230', port=7687)\n",
    "memgraph = Memgraph(host='alzkb.ai', port=7687)"
   ]
  },
  {
   "cell_type": "code",
   "execution_count": 69,
   "metadata": {},
   "outputs": [
    {
     "ename": "DatabaseError",
     "evalue": "Unbound variable: Gene.",
     "output_type": "error",
     "traceback": [
      "\u001b[0;31m---------------------------------------------------------------------------\u001b[0m",
      "\u001b[0;31mDatabaseError\u001b[0m                             Traceback (most recent call last)",
      "Input \u001b[0;32mIn [69]\u001b[0m, in \u001b[0;36m<cell line: 4>\u001b[0;34m()\u001b[0m\n\u001b[1;32m      1\u001b[0m results \u001b[38;5;241m=\u001b[39m memgraph\u001b[38;5;241m.\u001b[39mexecute_and_fetch(query)\n\u001b[1;32m      3\u001b[0m \u001b[38;5;66;03m# Print the first member\u001b[39;00m\n\u001b[0;32m----> 4\u001b[0m \u001b[38;5;28mprint\u001b[39m(\u001b[38;5;28;43mlist\u001b[39;49m\u001b[43m(\u001b[49m\u001b[43mresults\u001b[49m\u001b[43m)\u001b[49m[\u001b[38;5;241m0\u001b[39m][\u001b[38;5;124m'\u001b[39m\u001b[38;5;124mresult\u001b[39m\u001b[38;5;124m'\u001b[39m])\n",
      "File \u001b[0;32m~/opt/anaconda3/lib/python3.9/site-packages/gqlalchemy/connection.py:91\u001b[0m, in \u001b[0;36mMemgraphConnection.execute_and_fetch\u001b[0;34m(self, query, parameters)\u001b[0m\n\u001b[1;32m     89\u001b[0m \u001b[38;5;250m\u001b[39m\u001b[38;5;124;03m\"\"\"Executes Cypher query and returns iterator of results.\"\"\"\u001b[39;00m\n\u001b[1;32m     90\u001b[0m cursor \u001b[38;5;241m=\u001b[39m \u001b[38;5;28mself\u001b[39m\u001b[38;5;241m.\u001b[39m_connection\u001b[38;5;241m.\u001b[39mcursor()\n\u001b[0;32m---> 91\u001b[0m \u001b[43mcursor\u001b[49m\u001b[38;5;241;43m.\u001b[39;49m\u001b[43mexecute\u001b[49m\u001b[43m(\u001b[49m\u001b[43mquery\u001b[49m\u001b[43m,\u001b[49m\u001b[43m \u001b[49m\u001b[43mparameters\u001b[49m\u001b[43m)\u001b[49m\n\u001b[1;32m     92\u001b[0m \u001b[38;5;28;01mwhile\u001b[39;00m \u001b[38;5;28;01mTrue\u001b[39;00m:\n\u001b[1;32m     93\u001b[0m     row \u001b[38;5;241m=\u001b[39m cursor\u001b[38;5;241m.\u001b[39mfetchone()\n",
      "\u001b[0;31mDatabaseError\u001b[0m: Unbound variable: Gene."
     ]
    }
   ],
   "source": [
    "results = memgraph.execute_and_fetch(query)\n",
    "\n",
    "# Print the first member\n",
    "print(list(results)[0]['result'])"
   ]
  },
  {
   "cell_type": "code",
   "execution_count": 77,
   "metadata": {},
   "outputs": [
    {
     "name": "stdout",
     "output_type": "stream",
     "text": [
      "{'path_0': <Path nodes=[<Node id=23 labels={'Drug'} properties={'nodeID': '327', 'uri': 'http://jdr.bio/ontologies/alzkb.owl#drug_db00093', 'xrefDrugbank': 'DB00093', 'xrefCasRN': '56-59-7', 'commonName': 'Felypressin'}>, <Node id=40026 labels={'Gene'} properties={'xrefHGNC': '895', 'xrefNcbiGene': 552, 'commonName': 'arginine vasopressin receptor 1A', 'nodeID': '3880', 'xrefEnsembl': 'ENSG00000166148', 'uri': 'http://jdr.bio/ontologies/alzkb.owl#gene_avpr1a', 'xrefOMIM': '600821', 'geneSymbol': 'AVPR1A', 'typeOfGene': 'protein-coding'}>] relationships=[<Relationship id=0 start_node_id=23 end_node_id=40026 nodes=(23, 40026) type=CHEMICALBINDSGENE properties={}>]>}\n"
     ]
    },
    {
     "name": "stderr",
     "output_type": "stream",
     "text": [
      "/Users/yufeimeng/opt/anaconda3/lib/python3.9/site-packages/gqlalchemy/models.py:348: GQLAlchemySubclassNotFoundWarning: ({'Drug'}, <class 'gqlalchemy.models.Node'>)\n",
      "  warnings.warn(GQLAlchemySubclassNotFoundWarning(types, cls))\n",
      "/Users/yufeimeng/opt/anaconda3/lib/python3.9/site-packages/gqlalchemy/models.py:348: GQLAlchemySubclassNotFoundWarning: ({'Gene'}, <class 'gqlalchemy.models.Node'>)\n",
      "  warnings.warn(GQLAlchemySubclassNotFoundWarning(types, cls))\n",
      "/Users/yufeimeng/opt/anaconda3/lib/python3.9/site-packages/gqlalchemy/models.py:348: GQLAlchemySubclassNotFoundWarning: ('CHEMICALBINDSGENE', <class 'gqlalchemy.models.Relationship'>)\n",
      "  warnings.warn(GQLAlchemySubclassNotFoundWarning(types, cls))\n",
      "/Users/yufeimeng/opt/anaconda3/lib/python3.9/site-packages/gqlalchemy/models.py:348: GQLAlchemySubclassNotFoundWarning: (None, <class 'gqlalchemy.models.Path'>)\n",
      "  warnings.warn(GQLAlchemySubclassNotFoundWarning(types, cls))\n"
     ]
    },
    {
     "ename": "TypeError",
     "evalue": "'generator' object is not subscriptable",
     "output_type": "error",
     "traceback": [
      "\u001b[0;31m---------------------------------------------------------------------------\u001b[0m",
      "\u001b[0;31mTypeError\u001b[0m                                 Traceback (most recent call last)",
      "Input \u001b[0;32mIn [77]\u001b[0m, in \u001b[0;36m<cell line: 8>\u001b[0;34m()\u001b[0m\n\u001b[1;32m      6\u001b[0m \u001b[38;5;66;03m#print(test)\u001b[39;00m\n\u001b[1;32m      7\u001b[0m \u001b[38;5;28mprint\u001b[39m(\u001b[38;5;28mlist\u001b[39m(test)[\u001b[38;5;241m0\u001b[39m])\n\u001b[0;32m----> 8\u001b[0m \u001b[38;5;28mprint\u001b[39m(\u001b[43mtest\u001b[49m\u001b[43m[\u001b[49m\u001b[38;5;241;43m0\u001b[39;49m\u001b[43m]\u001b[49m)\n",
      "\u001b[0;31mTypeError\u001b[0m: 'generator' object is not subscriptable"
     ]
    }
   ],
   "source": [
    "# Try\n",
    "test = memgraph.execute_and_fetch(\n",
    "\"\"\"\n",
    "MATCH path_0 = ()-->(), path_0 = () RETURN path_0 LIMIT 8\n",
    "\"\"\")\n",
    "#print(test)\n",
    "print(list(test)[0])\n",
    "printtest[0])\n"
   ]
  },
  {
   "cell_type": "code",
   "execution_count": null,
   "metadata": {},
   "outputs": [],
   "source": [
    "query = memgraph.execute_and_fetch(\n",
    "\"\"\"\n",
    "RETURN DISTINCT * ORDER BY BiologicalProcess ASCENDING, DrugClass\n",
    "\"\"\")\n",
    "node_stats = pd.DataFrame(query)"
   ]
  },
  {
   "cell_type": "code",
   "execution_count": null,
   "metadata": {},
   "outputs": [
    {
     "data": {
      "text/plain": [
       "[' RETURN DISTINCT * ',\n",
       " \" UNWIND [0] AS unwind_var MATCH ({})<--()-->()<--({})<--({})-->({}), path_0 = () RETURN * ORDER BY path_0.prop5 DESC, Gene.typeOfGene, 'LIT5' DESC, GENEREGULATESGENE ASC, BiologicalProcess, BodyPart.commonName DESCENDING ; \"]"
      ]
     },
     "execution_count": 49,
     "metadata": {},
     "output_type": "execute_result"
    }
   ],
   "source": [
    "updated_query"
   ]
  },
  {
   "cell_type": "code",
   "execution_count": 13,
   "metadata": {},
   "outputs": [
    {
     "data": {
      "text/html": [
       "<div>\n",
       "<style scoped>\n",
       "    .dataframe tbody tr th:only-of-type {\n",
       "        vertical-align: middle;\n",
       "    }\n",
       "\n",
       "    .dataframe tbody tr th {\n",
       "        vertical-align: top;\n",
       "    }\n",
       "\n",
       "    .dataframe thead th {\n",
       "        text-align: right;\n",
       "    }\n",
       "</style>\n",
       "<table border=\"1\" class=\"dataframe\">\n",
       "  <thead>\n",
       "    <tr style=\"text-align: right;\">\n",
       "      <th></th>\n",
       "      <th>label</th>\n",
       "      <th>name</th>\n",
       "    </tr>\n",
       "  </thead>\n",
       "  <tbody>\n",
       "    <tr>\n",
       "      <th>0</th>\n",
       "      <td>Drug</td>\n",
       "      <td>Basiliximab</td>\n",
       "    </tr>\n",
       "    <tr>\n",
       "      <th>1</th>\n",
       "      <td>Drug</td>\n",
       "      <td>Muromonab</td>\n",
       "    </tr>\n",
       "    <tr>\n",
       "      <th>2</th>\n",
       "      <td>Drug</td>\n",
       "      <td>Trastuzumab</td>\n",
       "    </tr>\n",
       "    <tr>\n",
       "      <th>3</th>\n",
       "      <td>Drug</td>\n",
       "      <td>Rituximab</td>\n",
       "    </tr>\n",
       "    <tr>\n",
       "      <th>4</th>\n",
       "      <td>Drug</td>\n",
       "      <td>Ibritumomab tiuxetan</td>\n",
       "    </tr>\n",
       "  </tbody>\n",
       "</table>\n",
       "</div>"
      ],
      "text/plain": [
       "  label                  name\n",
       "0  Drug           Basiliximab\n",
       "1  Drug             Muromonab\n",
       "2  Drug           Trastuzumab\n",
       "3  Drug             Rituximab\n",
       "4  Drug  Ibritumomab tiuxetan"
      ]
     },
     "execution_count": 13,
     "metadata": {},
     "output_type": "execute_result"
    }
   ],
   "source": [
    "# Try with exported csv\n",
    "import pandas as pd\n",
    "node_props = pd.read_csv('memgraph-query-results-export.csv', index_col=None)\n",
    "node_props.head()"
   ]
  },
  {
   "cell_type": "code",
   "execution_count": 14,
   "metadata": {},
   "outputs": [
    {
     "ename": "KeyError",
     "evalue": "'a'",
     "output_type": "error",
     "traceback": [
      "\u001b[0;31m---------------------------------------------------------------------------\u001b[0m",
      "\u001b[0;31mKeyError\u001b[0m                                  Traceback (most recent call last)",
      "File \u001b[0;32m~/opt/anaconda3/lib/python3.9/site-packages/pandas/core/indexes/base.py:3802\u001b[0m, in \u001b[0;36mIndex.get_loc\u001b[0;34m(self, key, method, tolerance)\u001b[0m\n\u001b[1;32m   3801\u001b[0m \u001b[38;5;28;01mtry\u001b[39;00m:\n\u001b[0;32m-> 3802\u001b[0m     \u001b[38;5;28;01mreturn\u001b[39;00m \u001b[38;5;28;43mself\u001b[39;49m\u001b[38;5;241;43m.\u001b[39;49m\u001b[43m_engine\u001b[49m\u001b[38;5;241;43m.\u001b[39;49m\u001b[43mget_loc\u001b[49m\u001b[43m(\u001b[49m\u001b[43mcasted_key\u001b[49m\u001b[43m)\u001b[49m\n\u001b[1;32m   3803\u001b[0m \u001b[38;5;28;01mexcept\u001b[39;00m \u001b[38;5;167;01mKeyError\u001b[39;00m \u001b[38;5;28;01mas\u001b[39;00m err:\n",
      "File \u001b[0;32m~/opt/anaconda3/lib/python3.9/site-packages/pandas/_libs/index.pyx:138\u001b[0m, in \u001b[0;36mpandas._libs.index.IndexEngine.get_loc\u001b[0;34m()\u001b[0m\n",
      "File \u001b[0;32m~/opt/anaconda3/lib/python3.9/site-packages/pandas/_libs/index.pyx:165\u001b[0m, in \u001b[0;36mpandas._libs.index.IndexEngine.get_loc\u001b[0;34m()\u001b[0m\n",
      "File \u001b[0;32mpandas/_libs/hashtable_class_helper.pxi:5745\u001b[0m, in \u001b[0;36mpandas._libs.hashtable.PyObjectHashTable.get_item\u001b[0;34m()\u001b[0m\n",
      "File \u001b[0;32mpandas/_libs/hashtable_class_helper.pxi:5753\u001b[0m, in \u001b[0;36mpandas._libs.hashtable.PyObjectHashTable.get_item\u001b[0;34m()\u001b[0m\n",
      "\u001b[0;31mKeyError\u001b[0m: 'a'",
      "\nThe above exception was the direct cause of the following exception:\n",
      "\u001b[0;31mKeyError\u001b[0m                                  Traceback (most recent call last)",
      "Input \u001b[0;32mIn [14]\u001b[0m, in \u001b[0;36m<cell line: 1>\u001b[0;34m()\u001b[0m\n\u001b[0;32m----> 1\u001b[0m \u001b[43mnode_props\u001b[49m\u001b[43m[\u001b[49m\u001b[38;5;124;43m'\u001b[39;49m\u001b[38;5;124;43ma\u001b[39;49m\u001b[38;5;124;43m'\u001b[39;49m\u001b[43m]\u001b[49m\u001b[38;5;241m.\u001b[39miloc[\u001b[38;5;241m0\u001b[39m]\n",
      "File \u001b[0;32m~/opt/anaconda3/lib/python3.9/site-packages/pandas/core/frame.py:3807\u001b[0m, in \u001b[0;36mDataFrame.__getitem__\u001b[0;34m(self, key)\u001b[0m\n\u001b[1;32m   3805\u001b[0m \u001b[38;5;28;01mif\u001b[39;00m \u001b[38;5;28mself\u001b[39m\u001b[38;5;241m.\u001b[39mcolumns\u001b[38;5;241m.\u001b[39mnlevels \u001b[38;5;241m>\u001b[39m \u001b[38;5;241m1\u001b[39m:\n\u001b[1;32m   3806\u001b[0m     \u001b[38;5;28;01mreturn\u001b[39;00m \u001b[38;5;28mself\u001b[39m\u001b[38;5;241m.\u001b[39m_getitem_multilevel(key)\n\u001b[0;32m-> 3807\u001b[0m indexer \u001b[38;5;241m=\u001b[39m \u001b[38;5;28;43mself\u001b[39;49m\u001b[38;5;241;43m.\u001b[39;49m\u001b[43mcolumns\u001b[49m\u001b[38;5;241;43m.\u001b[39;49m\u001b[43mget_loc\u001b[49m\u001b[43m(\u001b[49m\u001b[43mkey\u001b[49m\u001b[43m)\u001b[49m\n\u001b[1;32m   3808\u001b[0m \u001b[38;5;28;01mif\u001b[39;00m is_integer(indexer):\n\u001b[1;32m   3809\u001b[0m     indexer \u001b[38;5;241m=\u001b[39m [indexer]\n",
      "File \u001b[0;32m~/opt/anaconda3/lib/python3.9/site-packages/pandas/core/indexes/base.py:3804\u001b[0m, in \u001b[0;36mIndex.get_loc\u001b[0;34m(self, key, method, tolerance)\u001b[0m\n\u001b[1;32m   3802\u001b[0m     \u001b[38;5;28;01mreturn\u001b[39;00m \u001b[38;5;28mself\u001b[39m\u001b[38;5;241m.\u001b[39m_engine\u001b[38;5;241m.\u001b[39mget_loc(casted_key)\n\u001b[1;32m   3803\u001b[0m \u001b[38;5;28;01mexcept\u001b[39;00m \u001b[38;5;167;01mKeyError\u001b[39;00m \u001b[38;5;28;01mas\u001b[39;00m err:\n\u001b[0;32m-> 3804\u001b[0m     \u001b[38;5;28;01mraise\u001b[39;00m \u001b[38;5;167;01mKeyError\u001b[39;00m(key) \u001b[38;5;28;01mfrom\u001b[39;00m \u001b[38;5;21;01merr\u001b[39;00m\n\u001b[1;32m   3805\u001b[0m \u001b[38;5;28;01mexcept\u001b[39;00m \u001b[38;5;167;01mTypeError\u001b[39;00m:\n\u001b[1;32m   3806\u001b[0m     \u001b[38;5;66;03m# If we have a listlike key, _check_indexing_error will raise\u001b[39;00m\n\u001b[1;32m   3807\u001b[0m     \u001b[38;5;66;03m#  InvalidIndexError. Otherwise we fall through and re-raise\u001b[39;00m\n\u001b[1;32m   3808\u001b[0m     \u001b[38;5;66;03m#  the TypeError.\u001b[39;00m\n\u001b[1;32m   3809\u001b[0m     \u001b[38;5;28mself\u001b[39m\u001b[38;5;241m.\u001b[39m_check_indexing_error(key)\n",
      "\u001b[0;31mKeyError\u001b[0m: 'a'"
     ]
    }
   ],
   "source": []
  },
  {
   "cell_type": "code",
   "execution_count": null,
   "metadata": {},
   "outputs": [],
   "source": []
  }
 ],
 "metadata": {
  "kernelspec": {
   "display_name": ".venv",
   "language": "python",
   "name": "python3"
  },
  "language_info": {
   "codemirror_mode": {
    "name": "ipython",
    "version": 3
   },
   "file_extension": ".py",
   "mimetype": "text/x-python",
   "name": "python",
   "nbconvert_exporter": "python",
   "pygments_lexer": "ipython3",
   "version": "3.9.12"
  }
 },
 "nbformat": 4,
 "nbformat_minor": 2
}
